{
  "nbformat": 4,
  "nbformat_minor": 0,
  "metadata": {
    "colab": {
      "name": "Copia di Empty CNN tutorial.ipynb",
      "provenance": [],
      "collapsed_sections": [],
      "include_colab_link": true
    },
    "language_info": {
      "codemirror_mode": {
        "name": "ipython",
        "version": 3
      },
      "file_extension": ".py",
      "mimetype": "text/x-python",
      "name": "python",
      "nbconvert_exporter": "python",
      "pygments_lexer": "ipython3",
      "version": "3.7.3"
    },
    "kernelspec": {
      "name": "python3",
      "display_name": "Python 3"
    },
    "accelerator": "GPU"
  },
  "cells": [
    {
      "cell_type": "markdown",
      "metadata": {
        "id": "view-in-github",
        "colab_type": "text"
      },
      "source": [
        "<a href=\"https://colab.research.google.com/github/Mara245/ML/blob/master/Copia_di_Empty_CNN_tutorial_3.ipynb\" target=\"_parent\"><img src=\"https://colab.research.google.com/assets/colab-badge.svg\" alt=\"Open In Colab\"/></a>"
      ]
    },
    {
      "cell_type": "markdown",
      "metadata": {
        "id": "6Y8mytY6WVcF"
      },
      "source": [
        "#Tutorial on CNN\n",
        "We try to build a DNN that recognize if an image contains a rectangle or a circle, count how many rectangle and circles are there or find where in the image the rectangle/circle is."
      ]
    },
    {
      "cell_type": "markdown",
      "metadata": {
        "id": "uxgS64DmqCrH"
      },
      "source": [
        "## Import useful stuff"
      ]
    },
    {
      "cell_type": "code",
      "metadata": {
        "id": "jO_-Tguu60O9"
      },
      "source": [
        "from keras.layers import Dense, Input, Conv2D, MaxPooling2D, Flatten #FILL ME# Which layers will be needed in a CNN ?\n",
        "from keras.models import Model\n",
        "import numpy as np\n",
        "from math import *\n",
        "from matplotlib import pyplot as plt "
      ],
      "execution_count": 1,
      "outputs": []
    },
    {
      "cell_type": "markdown",
      "metadata": {
        "id": "JcejQQHu8WQa"
      },
      "source": [
        "## Lets generate some data\n",
        "\n",
        "We now generate ourself some images with a circle or a rectangle, of random color, in a random position.\n",
        "\n",
        "Three different modes of generating the images are implemented:\n",
        "\n",
        "*   A single shape per figure\n",
        "*   Multiple shapes mixed in each figure\n",
        "*   A single figure keeping track of the \"bounding box\"\n",
        "\n",
        "\n",
        "\n",
        "### Additional Exercise\n",
        "1. Try adding some random noise in the image background\n",
        "2. Try adding more classes such e.g. Lines or Ellipses\n"
      ]
    },
    {
      "cell_type": "code",
      "metadata": {
        "id": "LGItu2U4lVh7"
      },
      "source": [
        "import cv2\n",
        "\n",
        "simple =False #single shape per figure\n",
        "mixed  =False #multi shapes per figure\n",
        "withBB =True  #one shape with bounding boxes\n",
        "\n",
        "\n",
        "def background():\n",
        "  return np.zeros((64,64,3), np.uint8) #EX# How would you change this to add some background noise?\n",
        "\n",
        "def randomColor():\n",
        "  return (int(np.random.rand()*128+128),int(np.random.rand()*128+128),int(np.random.rand()*128+128))\n",
        "\n",
        "def drawCircle(c,x,y,r):\n",
        "  img = background()\n",
        "  cv2.circle(img,(x,y),r,c, -1)\n",
        "  return img,x-r,y-r,x+r,y+r   #return image and bounding box\n",
        "\n",
        "def genCircle():\n",
        "  return drawCircle(randomColor(),int(np.random.rand()*50)+10,int(np.random.rand()*50)+10,\n",
        "                    int(np.random.rand()*6)+3)\n",
        "\n",
        "def drawRectangle(c,x,y,w,h):\n",
        "  img = background()\n",
        "  cv2.rectangle(img,(x,y),((x+w),(y+h)), c, -1)\n",
        "  return img,x,y,x+w,y+h #return image and bounding box\n",
        "\n",
        "def genRectangle():\n",
        "  return drawRectangle(randomColor(),int(np.random.rand()*40)+10,int(np.random.rand()*40)+10,\n",
        "                       int(np.random.rand()*12)+5,int(np.random.rand()*12)+5)\n",
        "\n",
        "def genN(f,i): # generate multiple shapes\n",
        "  img = np.zeros((64,64,3), np.uint8)\n",
        "  for x in range(i):\n",
        "    img+=f()[0] #discard bb info, take only image\n",
        "  return img\n",
        "\n",
        "nsamples=50000\n",
        "\n",
        "#produce figures with either a rectangle or a circle\n",
        "if simple :\n",
        "  targets=np.array([np.random.rand()>0.5 for x in range(nsamples) ])\n",
        "  images=np.array([genCircle()[0] if targets[x] else genRectangle()[0] for x in range(nsamples)])\n",
        "\n",
        "#produce figure with n rectangles and m circles\n",
        "if mixed:\n",
        "  targets=np.array([(int(np.random.rand()*4),int(np.random.rand()*4)) for x in range(nsamples) ])\n",
        "  images=np.array([genN(genRectangle,targets[x,0])+genN(genCircle,targets[x,1]) for x in range(nsamples)])\n",
        "\n",
        "if withBB : \n",
        "#produce figures with either a rectangle or a circle\n",
        "  targets=np.array([np.random.rand()>0.5 for x in range(nsamples) ])\n",
        "  imagesWithBB=[genCircle() if targets[x] else genRectangle() for x in range(nsamples)]\n",
        "  images=np.array([imagesWithBB[x][0] for x in range(nsamples)])\n",
        "  boundingBoxes=np.array([imagesWithBB[x][1:] for x in range(nsamples)])\n"
      ],
      "execution_count": 2,
      "outputs": []
    },
    {
      "cell_type": "markdown",
      "metadata": {
        "id": "XArMXTtMW97o"
      },
      "source": [
        "Let's show a few of the generated images"
      ]
    },
    {
      "cell_type": "code",
      "metadata": {
        "id": "YiUPPdZ6pNsi",
        "outputId": "f80cb4fe-58e9-41cb-d76e-b5ce27784756",
        "colab": {
          "base_uri": "https://localhost:8080/",
          "height": 1000
        }
      },
      "source": [
        "print(targets.shape)\n",
        "print(images.shape)           #FILL ME# print the shape of the images and target data\n",
        "print(targets[:10])           #FILL ME# print the the first N entries of the target data\n",
        "\n",
        "#show the first 4 images#\n",
        "for i in range(4):\n",
        "  plt.imshow(images[i])\n",
        "  plt.show()\n",
        "\n",
        "if withBB:\n",
        "  print(boundingBoxes.shape)#FILL ME#  print bounding box shapes and first N entries\n",
        "  print(boundingBoxes[:10])"
      ],
      "execution_count": 3,
      "outputs": [
        {
          "output_type": "stream",
          "text": [
            "(50000,)\n",
            "(50000, 64, 64, 3)\n",
            "[ True  True  True  True  True False False  True  True  True]\n"
          ],
          "name": "stdout"
        },
        {
          "output_type": "display_data",
          "data": {
            "image/png": "[encoded data removed]",
            "text/plain": [
              "<Figure size 432x288 with 1 Axes>"
            ]
          },
          "metadata": {
            "tags": [],
            "needs_background": "light"
          }
        },
        {
          "output_type": "display_data",
          "data": {
            "image/png": "[encoded data removed]",
            "text/plain": [
              "<Figure size 432x288 with 1 Axes>"
            ]
          },
          "metadata": {
            "tags": [],
            "needs_background": "light"
          }
        },
        {
          "output_type": "display_data",
          "data": {
            "image/png": "[encoded data removed]",
            "text/plain": [
              "<Figure size 432x288 with 1 Axes>"
            ]
          },
          "metadata": {
            "tags": [],
            "needs_background": "light"
          }
        },
        {
          "output_type": "display_data",
          "data": {
            "image/png": "[encoded data removed]",
            "text/plain": [
              "<Figure size 432x288 with 1 Axes>"
            ]
          },
          "metadata": {
            "tags": [],
            "needs_background": "light"
          }
        },
        {
          "output_type": "stream",
          "text": [
            "(50000, 4)\n",
            "[[21 39 33 51]\n",
            " [19 28 31 40]\n",
            " [48 24 54 30]\n",
            " [36 24 46 34]\n",
            " [12 17 18 23]\n",
            " [26 46 35 55]\n",
            " [25 19 40 31]\n",
            " [30  7 36 13]\n",
            " [49 38 57 46]\n",
            " [ 5 31 19 45]]\n"
          ],
          "name": "stdout"
        }
      ]
    },
    {
      "cell_type": "markdown",
      "metadata": {
        "id": "qeU8chiYxtSu"
      },
      "source": [
        "\n",
        "## Additional Exercise\n",
        "3. If we have more categories (let say N) we should use a categorical label that is a vector of length N with 1 on the category(/ies) the image belong to and 0 in the others. Try to build a categorical label for two categories \n",
        "\n",
        "4. Expand the categorical label to  Ellispes or  Lines  and possibly also non exclusive categories such has 2D vs 1D objects"
      ]
    },
    {
      "cell_type": "code",
      "metadata": {
        "id": "MN1px9PfBp9y"
      },
      "source": [
        "#QUESTION# What are the tensors now corresponding to \"X\" and \"y\" (with previous lecture notation) ?\n",
        "if withBB :\n",
        "    labels=[targets,boundingBoxes] \n",
        "else:\n",
        "    labels=targets\n",
        "\n"
      ],
      "execution_count": 5,
      "outputs": []
    },
    {
      "cell_type": "markdown",
      "metadata": {
        "id": "3NibVPZhC3hL"
      },
      "source": [
        "# Let's build a CNN \n",
        "\n",
        "Now we build our first CNN. We have some Conv layers interleaved with MaxPooling, and finally we flatten the output of the convolutional stack and appply a Dense FF:\n",
        "![alt text](https://missinglink.ai/wp-content/uploads/2019/08/LeNet-5-1998.png)\n",
        "\n",
        "\n",
        "### MaxPooling\n",
        "![alt text](https://computersciencewiki.org/images/8/8a/MaxpoolSample2.png)\n",
        "\n",
        "### Additional Exercise\n",
        "5. Try adding/removing convolutional layers, change the kernel size, try to add dropout\n",
        "6. Try changing the model to categorical labels, change loss function from binary_crossentropy to categorical_crossentropy, and use softmax activation instead of sigmoid\n"
      ]
    },
    {
      "cell_type": "code",
      "metadata": {
        "id": "pJLV4GOu9vGu",
        "outputId": "34e5f044-4716-4ccf-cb12-60277d97d118",
        "colab": {
          "base_uri": "https://localhost:8080/",
          "height": 1000
        }
      },
      "source": [
        "inputs=Input(shape=(64,64,3))                       #FILL ME# What is the input shape?\n",
        "conv = Conv2D(5, (3,3), activation='relu')(inputs)          # try building a CNN with three 2D Conv layers with a number of filters between 3 and 10\n",
        "pool = MaxPooling2D((2,2))(conv)                    # interleave them with with Max  pooling layers\n",
        "conv = Conv2D(5, (5,5), activation='relu')(pool)\n",
        "pool = MaxPooling2D((3,3))(conv)\n",
        "flatten = Flatten()(pool)                           # then use the \"Flatten\" layer to forget the multidimensional shape\n",
        "                                                    # add a final Feed Forward DNN\n",
        "\n",
        "dense = Dense(32, activation='relu')(flatten)\n",
        "\n",
        "#FILL ME# now let's try to decide the output layer, the activation and the loss based on the problem we have \n",
        "if simple : \n",
        "  outputs = Dense(1, activation='sigmoid')(dense)                     #FILLME# what is the output shape in this case? which activation?\n",
        "  loss=\"binary_crossentropy\"  # [0,1] classification hence loss should be => .... ?\n",
        "\n",
        "if mixed : \n",
        "  outputs = Dense(2, activation='linear')(dense)                                  #FILL ME#  Here we want to predict how many rect? and how many Circ?\n",
        "  loss='MSE' #FILLME#\n",
        "\n",
        "if withBB : #In this case we have two separate output layers, two target tensors, two losses\n",
        "  output1 = Dense(1, activation='sigmoid')(dense) #FILLME# which activation for the circle vs rectangle classification? \n",
        "  output2 = Dense(4, activation='linear')(dense) #FILLME# which activation to predict the 4 numbers of the bounding box ?\n",
        "  outputs=[output1,output2]\n",
        "  loss=[\"binary_crossentropy\",\"MSE\"] #FILL ME # And which loss for each of the two outputs? (the final loss will be the sum unless we give them some additional weights)\n",
        "\n",
        "model = Model(inputs=inputs, outputs=outputs)\n",
        "model.compile(loss=loss, optimizer='adam',metrics=['accuracy'])\n",
        "\n",
        "model.summary()\n",
        "\n",
        "#FILL ME#  try to print the graph of the network in this case\n",
        "from keras.utils import plot_model\n",
        "plot_model(model, to_file='model.png')\n"
      ],
      "execution_count": 11,
      "outputs": [
        {
          "output_type": "stream",
          "text": [
            "Model: \"functional_5\"\n",
            "__________________________________________________________________________________________________\n",
            "Layer (type)                    Output Shape         Param #     Connected to                     \n",
            "==================================================================================================\n",
            "input_3 (InputLayer)            [(None, 64, 64, 3)]  0                                            \n",
            "__________________________________________________________________________________________________\n",
            "conv2d_4 (Conv2D)               (None, 62, 62, 5)    140         input_3[0][0]                    \n",
            "__________________________________________________________________________________________________\n",
            "max_pooling2d_4 (MaxPooling2D)  (None, 31, 31, 5)    0           conv2d_4[0][0]                   \n",
            "__________________________________________________________________________________________________\n",
            "conv2d_5 (Conv2D)               (None, 27, 27, 5)    630         max_pooling2d_4[0][0]            \n",
            "__________________________________________________________________________________________________\n",
            "max_pooling2d_5 (MaxPooling2D)  (None, 9, 9, 5)      0           conv2d_5[0][0]                   \n",
            "__________________________________________________________________________________________________\n",
            "flatten_2 (Flatten)             (None, 405)          0           max_pooling2d_5[0][0]            \n",
            "__________________________________________________________________________________________________\n",
            "dense_6 (Dense)                 (None, 32)           12992       flatten_2[0][0]                  \n",
            "__________________________________________________________________________________________________\n",
            "dense_7 (Dense)                 (None, 1)            33          dense_6[0][0]                    \n",
            "__________________________________________________________________________________________________\n",
            "dense_8 (Dense)                 (None, 4)            132         dense_6[0][0]                    \n",
            "==================================================================================================\n",
            "Total params: 13,927\n",
            "Trainable params: 13,927\n",
            "Non-trainable params: 0\n",
            "__________________________________________________________________________________________________\n"
          ],
          "name": "stdout"
        },
        {
          "output_type": "execute_result",
          "data": {
            "image/png": "[encoded data removed]",
            "text/plain": [
              "<IPython.core.display.Image object>"
            ]
          },
          "metadata": {
            "tags": []
          },
          "execution_count": 11
        }
      ]
    },
    {
      "cell_type": "markdown",
      "metadata": {
        "id": "S6JmJFU-9vtN"
      },
      "source": [
        "And now let's fit it to our data.\n",
        "The sample is automatically split in two so that 50% of it is used for validation and the other half for training\n"
      ]
    },
    {
      "cell_type": "code",
      "metadata": {
        "id": "KRMhsQ2nC6oa",
        "outputId": "6950f058-f790-4db8-e40e-36e7c9bdbfb7",
        "colab": {
          "base_uri": "https://localhost:8080/"
        }
      },
      "source": [
        "history=model.fit(images, labels, validation_split=0.5, epochs=10) #FILL ME# Who are \"X\" and \"y\" here?"
      ],
      "execution_count": 12,
      "outputs": [
        {
          "output_type": "stream",
          "text": [
            "Epoch 1/10\n",
            "782/782 [==============================] - 9s 12ms/step - loss: 86.0213 - dense_7_loss: 2.3317 - dense_8_loss: 83.6896 - dense_7_accuracy: 0.5549 - dense_8_accuracy: 0.8445 - val_loss: 12.6288 - val_dense_7_loss: 0.9202 - val_dense_8_loss: 11.7087 - val_dense_7_accuracy: 0.5585 - val_dense_8_accuracy: 0.9306\n",
            "Epoch 2/10\n",
            "782/782 [==============================] - 9s 12ms/step - loss: 8.2811 - dense_7_loss: 0.7655 - dense_8_loss: 7.5156 - dense_7_accuracy: 0.5883 - dense_8_accuracy: 0.9427 - val_loss: 5.8985 - val_dense_7_loss: 0.6810 - val_dense_8_loss: 5.2175 - val_dense_7_accuracy: 0.6145 - val_dense_8_accuracy: 0.9502\n",
            "Epoch 3/10\n",
            "782/782 [==============================] - 10s 13ms/step - loss: 4.9738 - dense_7_loss: 0.6554 - dense_8_loss: 4.3184 - dense_7_accuracy: 0.6268 - dense_8_accuracy: 0.9546 - val_loss: 4.3349 - val_dense_7_loss: 0.6279 - val_dense_8_loss: 3.7070 - val_dense_7_accuracy: 0.6490 - val_dense_8_accuracy: 0.9496\n",
            "Epoch 4/10\n",
            "782/782 [==============================] - 9s 11ms/step - loss: 3.7328 - dense_7_loss: 0.6147 - dense_8_loss: 3.1181 - dense_7_accuracy: 0.6496 - dense_8_accuracy: 0.9601 - val_loss: 3.2675 - val_dense_7_loss: 0.6062 - val_dense_8_loss: 2.6613 - val_dense_7_accuracy: 0.6724 - val_dense_8_accuracy: 0.9631\n",
            "Epoch 5/10\n",
            "782/782 [==============================] - 9s 11ms/step - loss: 2.9742 - dense_7_loss: 0.5733 - dense_8_loss: 2.4009 - dense_7_accuracy: 0.6832 - dense_8_accuracy: 0.9660 - val_loss: 2.6768 - val_dense_7_loss: 0.5397 - val_dense_8_loss: 2.1371 - val_dense_7_accuracy: 0.7123 - val_dense_8_accuracy: 0.9667\n",
            "Epoch 6/10\n",
            "782/782 [==============================] - 9s 12ms/step - loss: 2.4549 - dense_7_loss: 0.4800 - dense_8_loss: 1.9749 - dense_7_accuracy: 0.7632 - dense_8_accuracy: 0.9695 - val_loss: 2.2403 - val_dense_7_loss: 0.3867 - val_dense_8_loss: 1.8537 - val_dense_7_accuracy: 0.8340 - val_dense_8_accuracy: 0.9685\n",
            "Epoch 7/10\n",
            "782/782 [==============================] - 9s 12ms/step - loss: 1.9382 - dense_7_loss: 0.2710 - dense_8_loss: 1.6672 - dense_7_accuracy: 0.8985 - dense_8_accuracy: 0.9722 - val_loss: 1.7007 - val_dense_7_loss: 0.1609 - val_dense_8_loss: 1.5397 - val_dense_7_accuracy: 0.9565 - val_dense_8_accuracy: 0.9698\n",
            "Epoch 8/10\n",
            "782/782 [==============================] - 9s 12ms/step - loss: 1.5457 - dense_7_loss: 0.1061 - dense_8_loss: 1.4396 - dense_7_accuracy: 0.9730 - dense_8_accuracy: 0.9730 - val_loss: 1.4104 - val_dense_7_loss: 0.0719 - val_dense_8_loss: 1.3385 - val_dense_7_accuracy: 0.9817 - val_dense_8_accuracy: 0.9681\n",
            "Epoch 9/10\n",
            "782/782 [==============================] - 9s 11ms/step - loss: 1.3001 - dense_7_loss: 0.0491 - dense_8_loss: 1.2510 - dense_7_accuracy: 0.9898 - dense_8_accuracy: 0.9736 - val_loss: 1.2305 - val_dense_7_loss: 0.0320 - val_dense_8_loss: 1.1985 - val_dense_7_accuracy: 0.9941 - val_dense_8_accuracy: 0.9764\n",
            "Epoch 10/10\n",
            "782/782 [==============================] - 9s 11ms/step - loss: 1.1090 - dense_7_loss: 0.0268 - dense_8_loss: 1.0822 - dense_7_accuracy: 0.9952 - dense_8_accuracy: 0.9763 - val_loss: 1.1751 - val_dense_7_loss: 0.0191 - val_dense_8_loss: 1.1560 - val_dense_7_accuracy: 0.9969 - val_dense_8_accuracy: 0.9709\n"
          ],
          "name": "stdout"
        }
      ]
    },
    {
      "cell_type": "markdown",
      "metadata": {
        "id": "DKGPKoUU0Ou0"
      },
      "source": [
        "*history* contains information about the training.  We can now now show the loss vs epoch for both validation and training samples.\n",
        "\n",
        "\n"
      ]
    },
    {
      "cell_type": "code",
      "metadata": {
        "id": "lu2OdNE5OeXb",
        "outputId": "d8084209-bd9a-4534-a977-2805134b04b9",
        "colab": {
          "base_uri": "https://localhost:8080/",
          "height": 323
        }
      },
      "source": [
        "print(history.history.keys())\n",
        "plt.plot(history.history[\"val_loss\"])\n",
        "plt.plot(history.history[\"loss\"])\n",
        "plt.yscale('log')\n",
        "plt.show()\n",
        "\"\"\"\n",
        "plt.plot(history.history[\"val_accuracy\"])\n",
        "plt.plot(history.history[\"accuracy\"])\n",
        "plt.show()\n",
        "\"\"\""
      ],
      "execution_count": 14,
      "outputs": [
        {
          "output_type": "stream",
          "text": [
            "dict_keys(['loss', 'dense_7_loss', 'dense_8_loss', 'dense_7_accuracy', 'dense_8_accuracy', 'val_loss', 'val_dense_7_loss', 'val_dense_8_loss', 'val_dense_7_accuracy', 'val_dense_8_accuracy'])\n"
          ],
          "name": "stdout"
        },
        {
          "output_type": "display_data",
          "data": {
            "image/png": "[encoded data removed]",
            "text/plain": [
              "<Figure size 432x288 with 1 Axes>"
            ]
          },
          "metadata": {
            "tags": [],
            "needs_background": "light"
          }
        },
        {
          "output_type": "execute_result",
          "data": {
            "application/vnd.google.colaboratory.intrinsic+json": {
              "type": "string"
            },
            "text/plain": [
              "'\\nplt.plot(history.history[\"val_accuracy\"])\\nplt.plot(history.history[\"accuracy\"])\\nplt.show()\\n'"
            ]
          },
          "metadata": {
            "tags": []
          },
          "execution_count": 14
        }
      ]
    },
    {
      "cell_type": "markdown",
      "metadata": {
        "id": "AWGckuGjZRjm"
      },
      "source": [
        "Let's try to create a new image and evaluate it"
      ]
    },
    {
      "cell_type": "code",
      "metadata": {
        "id": "ej1RCfrcZPLp",
        "outputId": "3492c1f1-9270-484e-924d-67ed4fd759e0",
        "colab": {
          "base_uri": "https://localhost:8080/",
          "height": 554
        }
      },
      "source": [
        "image = genRectangle()[0]                #FILL ME# try to generate a new circle and check if the network recognizes it\n",
        "plt.imshow(image)\n",
        "plt.show()\n",
        "\n",
        "\n",
        "if mixed :\n",
        "  image= genCircle()[0]+genRectangle()[0]+genRectangle()[0]\n",
        "  sample = np.reshape(image, (1,64,64,3))\n",
        "  prediction = model.predict(sample)\n",
        "  print(prediction)\n",
        "  #FILL ME#try predicting on the \"im\" generated above... how do we access the number of predicted objects?\n",
        "  print(\"In this image there are %s rectangle and %s circles\"%(prediction[0,1],prediction[0,0]))\n",
        "  plt.imshow(image)\n",
        "  plt.show()\n",
        "\n",
        "if withBB:\n",
        "  im,x1,y1,x2,y2= genCircle()\n",
        "  pre=model.predict(np.expand_dims(im,axis=0) )\n",
        "  isCircle=pre[0][0]\n",
        "  x1p=pre[1][0][0]-1.\n",
        "  y1p=pre[1][0][1]-1.\n",
        "  x2p=pre[1][0][2]+1.\n",
        "  y2p=pre[1][0][3]+1.\n",
        "  print(x1p,y1p,x2p,y2p)\n",
        "  #print(\"Looks like a\", (\"circle\" if model.predict(np.expand_dims(im,axis=0) )[0,1] > 0.5 else \"rectangle\"))\n",
        "  print(\"It is a\",\"circle\" if isCircle > 0.5 else \"rectangle\" )\n",
        "  cv2.rectangle(im,(x1-1,y1-1),(x2+1,y2+1), (255,0,0), 1)\n",
        "  cv2.rectangle(im,(int(x1p),int(y1p)),(int(x2p),int(y2p)), (255,255,0), 1)\n",
        "  plt.imshow(im)\n",
        "  plt.show()\n"
      ],
      "execution_count": 16,
      "outputs": [
        {
          "output_type": "display_data",
          "data": {
            "image/png": "[encoded data removed]",
            "text/plain": [
              "<Figure size 432x288 with 1 Axes>"
            ]
          },
          "metadata": {
            "tags": [],
            "needs_background": "light"
          }
        },
        {
          "output_type": "stream",
          "text": [
            "16.34084701538086 27.152427673339844 27.88096809387207 40.11207580566406\n",
            "It is a circle\n"
          ],
          "name": "stdout"
        },
        {
          "output_type": "display_data",
          "data": {
            "image/png": "[encoded data removed]",
            "text/plain": [
              "<Figure size 432x288 with 1 Axes>"
            ]
          },
          "metadata": {
            "tags": [],
            "needs_background": "light"
          }
        }
      ]
    }
  ]
}