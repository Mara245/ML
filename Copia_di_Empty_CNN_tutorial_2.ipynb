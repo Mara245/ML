{
  "nbformat": 4,
  "nbformat_minor": 0,
  "metadata": {
    "colab": {
      "name": "Copia di Empty CNN tutorial.ipynb",
      "provenance": [],
      "collapsed_sections": [],
      "include_colab_link": true
    },
    "language_info": {
      "codemirror_mode": {
        "name": "ipython",
        "version": 3
      },
      "file_extension": ".py",
      "mimetype": "text/x-python",
      "name": "python",
      "nbconvert_exporter": "python",
      "pygments_lexer": "ipython3",
      "version": "3.7.3"
    },
    "kernelspec": {
      "name": "python3",
      "display_name": "Python 3"
    },
    "accelerator": "GPU"
  },
  "cells": [
    {
      "cell_type": "markdown",
      "metadata": {
        "id": "view-in-github",
        "colab_type": "text"
      },
      "source": [
        "<a href=\"https://colab.research.google.com/github/Mara245/ML/blob/master/Copia_di_Empty_CNN_tutorial_2.ipynb\" target=\"_parent\"><img src=\"https://colab.research.google.com/assets/colab-badge.svg\" alt=\"Open In Colab\"/></a>"
      ]
    },
    {
      "cell_type": "markdown",
      "metadata": {
        "id": "6Y8mytY6WVcF"
      },
      "source": [
        "#Tutorial on CNN\n",
        "We try to build a DNN that recognize if an image contains a rectangle or a circle, count how many rectangle and circles are there or find where in the image the rectangle/circle is."
      ]
    },
    {
      "cell_type": "markdown",
      "metadata": {
        "id": "uxgS64DmqCrH"
      },
      "source": [
        "## Import useful stuff"
      ]
    },
    {
      "cell_type": "code",
      "metadata": {
        "id": "jO_-Tguu60O9"
      },
      "source": [
        "from keras.layers import Dense, Input, Conv2D, MaxPooling2D, Flatten #FILL ME# Which layers will be needed in a CNN ?\n",
        "from keras.models import Model\n",
        "import numpy as np\n",
        "from math import *\n",
        "from matplotlib import pyplot as plt "
      ],
      "execution_count": 31,
      "outputs": []
    },
    {
      "cell_type": "markdown",
      "metadata": {
        "id": "JcejQQHu8WQa"
      },
      "source": [
        "## Lets generate some data\n",
        "\n",
        "We now generate ourself some images with a circle or a rectangle, of random color, in a random position.\n",
        "\n",
        "Three different modes of generating the images are implemented:\n",
        "\n",
        "*   A single shape per figure\n",
        "*   Multiple shapes mixed in each figure\n",
        "*   A single figure keeping track of the \"bounding box\"\n",
        "\n",
        "\n",
        "\n",
        "### Additional Exercise\n",
        "1. Try adding some random noise in the image background\n",
        "2. Try adding more classes such e.g. Lines or Ellipses\n"
      ]
    },
    {
      "cell_type": "code",
      "metadata": {
        "id": "LGItu2U4lVh7"
      },
      "source": [
        "import cv2\n",
        "\n",
        "simple =False #single shape per figure\n",
        "mixed  =True #multi shapes per figure\n",
        "withBB =False  #one shape with bounding boxes\n",
        "\n",
        "\n",
        "def background():\n",
        "  return np.zeros((64,64,3), np.uint8) #EX# How would you change this to add some background noise?\n",
        "\n",
        "def randomColor():\n",
        "  return (int(np.random.rand()*128+128),int(np.random.rand()*128+128),int(np.random.rand()*128+128))\n",
        "\n",
        "def drawCircle(c,x,y,r):\n",
        "  img = background()\n",
        "  cv2.circle(img,(x,y),r,c, -1)\n",
        "  return img,x-r,y-r,x+r,y+r   #return image and bounding box\n",
        "\n",
        "def genCircle():\n",
        "  return drawCircle(randomColor(),int(np.random.rand()*50)+10,int(np.random.rand()*50)+10,\n",
        "                    int(np.random.rand()*6)+3)\n",
        "\n",
        "def drawRectangle(c,x,y,w,h):\n",
        "  img = background()\n",
        "  cv2.rectangle(img,(x,y),((x+w),(y+h)), c, -1)\n",
        "  return img,x,y,x+w,y+h #return image and bounding box\n",
        "\n",
        "def genRectangle():\n",
        "  return drawRectangle(randomColor(),int(np.random.rand()*40)+10,int(np.random.rand()*40)+10,\n",
        "                       int(np.random.rand()*12)+5,int(np.random.rand()*12)+5)\n",
        "\n",
        "def genN(f,i): # generate multiple shapes\n",
        "  img = np.zeros((64,64,3), np.uint8)\n",
        "  for x in range(i):\n",
        "    img+=f()[0] #discard bb info, take only image\n",
        "  return img\n",
        "\n",
        "nsamples=50000\n",
        "\n",
        "#produce figures with either a rectangle or a circle\n",
        "if simple :\n",
        "  targets=np.array([np.random.rand()>0.5 for x in range(nsamples) ])\n",
        "  images=np.array([genCircle()[0] if targets[x] else genRectangle()[0] for x in range(nsamples)])\n",
        "\n",
        "#produce figure with n rectangles and m circles\n",
        "if mixed:\n",
        "  targets=np.array([(int(np.random.rand()*4),int(np.random.rand()*4)) for x in range(nsamples) ])\n",
        "  images=np.array([genN(genRectangle,targets[x,0])+genN(genCircle,targets[x,1]) for x in range(nsamples)])\n",
        "\n",
        "if withBB : \n",
        "#produce figures with either a rectangle or a circle\n",
        "  targets=np.array([np.random.rand()>0.5 for x in range(nsamples) ])\n",
        "  imagesWithBB=[genCircle() if targets[x] else genRectangle() for x in range(nsamples)]\n",
        "  images=np.array([imagesWithBB[x][0] for x in range(nsamples)])\n",
        "  boundingBoxes=np.array([imagesWithBB[x][1:] for x in range(nsamples)])\n"
      ],
      "execution_count": 53,
      "outputs": []
    },
    {
      "cell_type": "markdown",
      "metadata": {
        "id": "XArMXTtMW97o"
      },
      "source": [
        "Let's show a few of the generated images"
      ]
    },
    {
      "cell_type": "code",
      "metadata": {
        "id": "YiUPPdZ6pNsi",
        "outputId": "3d53f057-23d5-464f-e5d3-1034aa8f2e60",
        "colab": {
          "base_uri": "https://localhost:8080/",
          "height": 1000
        }
      },
      "source": [
        "print(targets.shape)\n",
        "print(images.shape)           #FILL ME# print the shape of the images and target data\n",
        "print(targets[:10])           #FILL ME# print the the first N entries of the target data\n",
        "\n",
        "#show the first 4 images#\n",
        "for i in range(4):\n",
        "  plt.imshow(images[i])\n",
        "  plt.show()\n",
        "\n",
        "#\n",
        "#if withBB:\n",
        "#  FILL ME#  print bounding box shapes and first N entries\n",
        "  "
      ],
      "execution_count": 34,
      "outputs": [
        {
          "output_type": "stream",
          "text": [
            "(5000, 2)\n",
            "(5000, 64, 64, 3)\n",
            "[[1 1]\n",
            " [1 1]\n",
            " [0 1]\n",
            " [2 0]\n",
            " [0 0]\n",
            " [2 3]\n",
            " [3 2]\n",
            " [0 0]\n",
            " [2 1]\n",
            " [0 0]]\n"
          ],
          "name": "stdout"
        },
        {
          "output_type": "display_data",
          "data": {
            "image/png": "[encoded data removed]",
            "text/plain": [
              "<Figure size 432x288 with 1 Axes>"
            ]
          },
          "metadata": {
            "tags": [],
            "needs_background": "light"
          }
        },
        {
          "output_type": "display_data",
          "data": {
            "image/png": "[encoded data removed]",
            "text/plain": [
              "<Figure size 432x288 with 1 Axes>"
            ]
          },
          "metadata": {
            "tags": [],
            "needs_background": "light"
          }
        },
        {
          "output_type": "display_data",
          "data": {
            "image/png": "[encoded data removed]",
            "text/plain": [
              "<Figure size 432x288 with 1 Axes>"
            ]
          },
          "metadata": {
            "tags": [],
            "needs_background": "light"
          }
        },
        {
          "output_type": "display_data",
          "data": {
            "image/png": "[encoded data removed]",
            "text/plain": [
              "<Figure size 432x288 with 1 Axes>"
            ]
          },
          "metadata": {
            "tags": [],
            "needs_background": "light"
          }
        }
      ]
    },
    {
      "cell_type": "markdown",
      "metadata": {
        "id": "qeU8chiYxtSu"
      },
      "source": [
        "\n",
        "## Additional Exercise\n",
        "3. If we have more categories (let say N) we should use a categorical label that is a vector of length N with 1 on the category(/ies) the image belong to and 0 in the others. Try to build a categorical label for two categories \n",
        "\n",
        "4. Expand the categorical label to  Ellispes or  Lines  and possibly also non exclusive categories such has 2D vs 1D objects"
      ]
    },
    {
      "cell_type": "code",
      "metadata": {
        "id": "MN1px9PfBp9y"
      },
      "source": [
        "#QUESTION# What are the tensors now corresponding to \"X\" and \"y\" (with previous lecture notation) ?\n",
        "if withBB :\n",
        "    labels=[targets,boundingBoxes] \n",
        "else:\n",
        "    labels=targets\n",
        "\n"
      ],
      "execution_count": 54,
      "outputs": []
    },
    {
      "cell_type": "markdown",
      "metadata": {
        "id": "3NibVPZhC3hL"
      },
      "source": [
        "# Let's build a CNN \n",
        "\n",
        "Now we build our first CNN. We have some Conv layers interleaved with MaxPooling, and finally we flatten the output of the convolutional stack and appply a Dense FF:\n",
        "![alt text](https://missinglink.ai/wp-content/uploads/2019/08/LeNet-5-1998.png)\n",
        "\n",
        "\n",
        "### MaxPooling\n",
        "![alt text](https://computersciencewiki.org/images/8/8a/MaxpoolSample2.png)\n",
        "\n",
        "### Additional Exercise\n",
        "5. Try adding/removing convolutional layers, change the kernel size, try to add dropout\n",
        "6. Try changing the model to categorical labels, change loss function from binary_crossentropy to categorical_crossentropy, and use softmax activation instead of sigmoid\n"
      ]
    },
    {
      "cell_type": "code",
      "metadata": {
        "id": "pJLV4GOu9vGu",
        "outputId": "9112cd5c-a0df-4066-a159-9ee1b9ece431",
        "colab": {
          "base_uri": "https://localhost:8080/"
        }
      },
      "source": [
        "inputs=Input(shape=(64,64,3))                       #FILL ME# What is the input shape?\n",
        "conv = Conv2D(5, (3,3), activation='relu')(inputs)          # try building a CNN with three 2D Conv layers with a number of filters between 3 and 10\n",
        "pool = MaxPooling2D((2,2))(conv)                    # interleave them with with Max  pooling layers\n",
        "conv = Conv2D(5, (5,5), activation='relu')(pool)\n",
        "pool = MaxPooling2D((3,3))(conv)\n",
        "flatten = Flatten()(pool)                           # then use the \"Flatten\" layer to forget the multidimensional shape\n",
        "                                                    # add a final Feed Forward DNN\n",
        "\n",
        "dense = Dense(32, activation='relu')(flatten)\n",
        "\n",
        "#FILL ME# now let's try to decide the output layer, the activation and the loss based on the problem we have \n",
        "if simple : \n",
        "  outputs = Dense(1, activation='sigmoid')(dense)                     #FILLME# what is the output shape in this case? which activation?\n",
        "  loss=\"binary_crossentropy\"  # [0,1] classification hence loss should be => .... ?\n",
        "\n",
        "if mixed : \n",
        "  outputs = Dense(2, activation='linear')(dense)                                  #FILL ME#  Here we want to predict how many rect? and how many Circ?\n",
        "  loss='MSE' #FILLME#\n",
        "\"\"\"\n",
        "if withBB : #In this case we have two separate output layers, two target tensors, two losses\n",
        "  output1 = Dense(1, activation='')(hidden) #FILLME# which activation for the circle vs rectangle classification? \n",
        "  output2 = Dense(4, activation='')(hidden) #FILLME# which activation to predict the 4 numbers of the bounding box ?\n",
        "  outputs=[output1,output2]\n",
        "  loss=[\"\",\"\"] #FILL ME # And which loss for each of the two outputs? (the final loss will be the sum unless we give them some additional weights)\n",
        "  \"\"\"\n",
        "model = Model(inputs=inputs, outputs=outputs)\n",
        "model.compile(loss=loss, optimizer='adam',metrics=['accuracy'])\n",
        "\n",
        "model.summary()\n",
        "\n",
        "#if withBB:\n",
        "#FILL ME#  try to print the graph of the network in this case\n"
      ],
      "execution_count": 37,
      "outputs": [
        {
          "output_type": "stream",
          "text": [
            "Model: \"functional_8\"\n",
            "_________________________________________________________________\n",
            "Layer (type)                 Output Shape              Param #   \n",
            "=================================================================\n",
            "input_11 (InputLayer)        [(None, 64, 64, 3)]       0         \n",
            "_________________________________________________________________\n",
            "conv2d_14 (Conv2D)           (None, 62, 62, 5)         140       \n",
            "_________________________________________________________________\n",
            "max_pooling2d_14 (MaxPooling (None, 31, 31, 5)         0         \n",
            "_________________________________________________________________\n",
            "conv2d_15 (Conv2D)           (None, 27, 27, 5)         630       \n",
            "_________________________________________________________________\n",
            "max_pooling2d_15 (MaxPooling (None, 9, 9, 5)           0         \n",
            "_________________________________________________________________\n",
            "flatten_4 (Flatten)          (None, 405)               0         \n",
            "_________________________________________________________________\n",
            "dense_8 (Dense)              (None, 32)                12992     \n",
            "_________________________________________________________________\n",
            "dense_9 (Dense)              (None, 2)                 66        \n",
            "=================================================================\n",
            "Total params: 13,828\n",
            "Trainable params: 13,828\n",
            "Non-trainable params: 0\n",
            "_________________________________________________________________\n"
          ],
          "name": "stdout"
        }
      ]
    },
    {
      "cell_type": "markdown",
      "metadata": {
        "id": "S6JmJFU-9vtN"
      },
      "source": [
        "And now let's fit it to our data.\n",
        "The sample is automatically split in two so that 50% of it is used for validation and the other half for training\n"
      ]
    },
    {
      "cell_type": "code",
      "metadata": {
        "id": "KRMhsQ2nC6oa",
        "outputId": "f9e58026-10ec-4a07-d728-24779e291f30",
        "colab": {
          "base_uri": "https://localhost:8080/"
        }
      },
      "source": [
        "history=model.fit(images, labels, validation_split=0.5, epochs=10) #FILL ME# Who are \"X\" and \"y\" here?"
      ],
      "execution_count": 55,
      "outputs": [
        {
          "output_type": "stream",
          "text": [
            "Epoch 1/10\n",
            "782/782 [==============================] - 7s 9ms/step - loss: 0.1659 - accuracy: 0.8684 - val_loss: 0.1526 - val_accuracy: 0.8222\n",
            "Epoch 2/10\n",
            "782/782 [==============================] - 7s 9ms/step - loss: 0.1347 - accuracy: 0.8218 - val_loss: 0.1249 - val_accuracy: 0.8156\n",
            "Epoch 3/10\n",
            "782/782 [==============================] - 7s 9ms/step - loss: 0.1235 - accuracy: 0.8297 - val_loss: 0.1207 - val_accuracy: 0.9100\n",
            "Epoch 4/10\n",
            "782/782 [==============================] - 7s 8ms/step - loss: 0.1114 - accuracy: 0.8396 - val_loss: 0.1054 - val_accuracy: 0.8328\n",
            "Epoch 5/10\n",
            "782/782 [==============================] - 7s 9ms/step - loss: 0.1058 - accuracy: 0.8246 - val_loss: 0.1095 - val_accuracy: 0.7936\n",
            "Epoch 6/10\n",
            "782/782 [==============================] - 7s 9ms/step - loss: 0.0997 - accuracy: 0.8255 - val_loss: 0.1430 - val_accuracy: 0.7474\n",
            "Epoch 7/10\n",
            "782/782 [==============================] - 7s 9ms/step - loss: 0.0950 - accuracy: 0.8244 - val_loss: 0.1105 - val_accuracy: 0.8624\n",
            "Epoch 8/10\n",
            "782/782 [==============================] - 7s 9ms/step - loss: 0.0920 - accuracy: 0.8281 - val_loss: 0.0894 - val_accuracy: 0.8400\n",
            "Epoch 9/10\n",
            "782/782 [==============================] - 7s 9ms/step - loss: 0.0879 - accuracy: 0.8411 - val_loss: 0.1019 - val_accuracy: 0.7844\n",
            "Epoch 10/10\n",
            "782/782 [==============================] - 7s 9ms/step - loss: 0.0844 - accuracy: 0.8352 - val_loss: 0.0861 - val_accuracy: 0.8515\n"
          ],
          "name": "stdout"
        }
      ]
    },
    {
      "cell_type": "markdown",
      "metadata": {
        "id": "DKGPKoUU0Ou0"
      },
      "source": [
        "*history* contains information about the training.  We can now now show the loss vs epoch for both validation and training samples.\n",
        "\n",
        "\n"
      ]
    },
    {
      "cell_type": "code",
      "metadata": {
        "id": "lu2OdNE5OeXb",
        "outputId": "ad96f9cc-e5c9-41e6-99d0-e1452159e9b7",
        "colab": {
          "base_uri": "https://localhost:8080/",
          "height": 531
        }
      },
      "source": [
        "print(history.history.keys())\n",
        "plt.plot(history.history[\"val_loss\"])\n",
        "plt.plot(history.history[\"loss\"])\n",
        "plt.yscale('log')\n",
        "plt.show()\n",
        "plt.plot(history.history[\"val_accuracy\"])\n",
        "plt.plot(history.history[\"accuracy\"])\n",
        "plt.show()\n"
      ],
      "execution_count": 56,
      "outputs": [
        {
          "output_type": "stream",
          "text": [
            "dict_keys(['loss', 'accuracy', 'val_loss', 'val_accuracy'])\n"
          ],
          "name": "stdout"
        },
        {
          "output_type": "display_data",
          "data": {
            "image/png": "[encoded data removed]",
            "text/plain": [
              "<Figure size 432x288 with 1 Axes>"
            ]
          },
          "metadata": {
            "tags": [],
            "needs_background": "light"
          }
        },
        {
          "output_type": "display_data",
          "data": {
            "image/png": "[encoded data removed]",
            "text/plain": [
              "<Figure size 432x288 with 1 Axes>"
            ]
          },
          "metadata": {
            "tags": [],
            "needs_background": "light"
          }
        }
      ]
    },
    {
      "cell_type": "markdown",
      "metadata": {
        "id": "AWGckuGjZRjm"
      },
      "source": [
        "Let's try to create a new image and evaluate it"
      ]
    },
    {
      "cell_type": "code",
      "metadata": {
        "id": "ej1RCfrcZPLp",
        "outputId": "8f3d5611-4550-440b-b8bd-539f43c0e0ab",
        "colab": {
          "base_uri": "https://localhost:8080/",
          "height": 624
        }
      },
      "source": [
        "image = genRectangle()[0]                #FILL ME# try to generate a new circle and check if the network recognizes it\n",
        "plt.imshow(image)\n",
        "plt.show()\n",
        "\n",
        "\n",
        "if mixed :\n",
        "  image= genCircle()[0]+genRectangle()[0]+genRectangle()[0]\n",
        "  sample = np.reshape(image, (1,64,64,3))\n",
        "  prediction = model.predict(sample)\n",
        "  print(prediction)\n",
        "  #FILL ME#try predicting on the \"im\" generated above... how do we access the number of predicted objects?\n",
        "  print(\"In this image there are %s rectangle and %s circles\"%(prediction[0,1],prediction[0,0]))\n",
        "  plt.imshow(image)\n",
        "  plt.show()\n",
        "\"\"\"\n",
        "if withBB:\n",
        "  im,x1,y1,x2,y2= genCircle()\n",
        "  pre=model.predict(np.expand_dims(im,axis=0) )\n",
        "  isCircle=pre[0][0]\n",
        "  x1p=pre[1][0][0]-1.\n",
        "  y1p=pre[1][0][1]-1.\n",
        "  x2p=pre[1][0][2]+1.\n",
        "  y2p=pre[1][0][3]+1.\n",
        "  print(x1p,y1p,x2p,y2p)\n",
        "  #print(\"Looks like a\", (\"circle\" if model.predict(np.expand_dims(im,axis=0) )[0,1] > 0.5 else \"rectangle\"))\n",
        "  print(\"It is a\",\"circle\" if isCircle > 0.5 else \"rectangle\" )\n",
        "  cv2.rectangle(im,(x1-1,y1-1),(x2+1,y2+1), (255,0,0), 1)\n",
        "  cv2.rectangle(im,(int(x1p),int(y1p)),(int(x2p),int(y2p)), (255,255,0), 1)\n",
        "  plt.imshow(im)\n",
        "  plt.show()\n",
        "\"\"\""
      ],
      "execution_count": 58,
      "outputs": [
        {
          "output_type": "display_data",
          "data": {
            "image/png": "[encoded data removed]",
            "text/plain": [
              "<Figure size 432x288 with 1 Axes>"
            ]
          },
          "metadata": {
            "tags": [],
            "needs_background": "light"
          }
        },
        {
          "output_type": "stream",
          "text": [
            "[[2.4378285  0.89816606]]\n",
            "In this image there are 0.89816606 rectangle and 2.4378285 circles\n"
          ],
          "name": "stdout"
        },
        {
          "output_type": "display_data",
          "data": {
            "image/png": "[encoded data removed]",
            "text/plain": [
              "<Figure size 432x288 with 1 Axes>"
            ]
          },
          "metadata": {
            "tags": [],
            "needs_background": "light"
          }
        },
        {
          "output_type": "execute_result",
          "data": {
            "application/vnd.google.colaboratory.intrinsic+json": {
              "type": "string"
            },
            "text/plain": [
              "'\\nif withBB:\\n  im,x1,y1,x2,y2= genCircle()\\n  pre=model.predict(np.expand_dims(im,axis=0) )\\n  isCircle=pre[0][0]\\n  x1p=pre[1][0][0]-1.\\n  y1p=pre[1][0][1]-1.\\n  x2p=pre[1][0][2]+1.\\n  y2p=pre[1][0][3]+1.\\n  print(x1p,y1p,x2p,y2p)\\n  #print(\"Looks like a\", (\"circle\" if model.predict(np.expand_dims(im,axis=0) )[0,1] > 0.5 else \"rectangle\"))\\n  print(\"It is a\",\"circle\" if isCircle > 0.5 else \"rectangle\" )\\n  cv2.rectangle(im,(x1-1,y1-1),(x2+1,y2+1), (255,0,0), 1)\\n  cv2.rectangle(im,(int(x1p),int(y1p)),(int(x2p),int(y2p)), (255,255,0), 1)\\n  plt.imshow(im)\\n  plt.show()\\n'"
            ]
          },
          "metadata": {
            "tags": []
          },
          "execution_count": 58
        }
      ]
    }
  ]
}