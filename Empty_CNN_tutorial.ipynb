{
  "nbformat": 4,
  "nbformat_minor": 0,
  "metadata": {
    "colab": {
      "name": "Empty CNN tutorial.ipynb",
      "provenance": [],
      "collapsed_sections": [],
      "toc_visible": true,
      "include_colab_link": true
    },
    "language_info": {
      "codemirror_mode": {
        "name": "ipython",
        "version": 3
      },
      "file_extension": ".py",
      "mimetype": "text/x-python",
      "name": "python",
      "nbconvert_exporter": "python",
      "pygments_lexer": "ipython3",
      "version": "3.7.3"
    },
    "kernelspec": {
      "name": "python3",
      "display_name": "Python 3"
    },
    "accelerator": "GPU"
  },
  "cells": [
    {
      "cell_type": "markdown",
      "metadata": {
        "id": "view-in-github",
        "colab_type": "text"
      },
      "source": [
        "<a href=\"https://colab.research.google.com/github/Mara245/ML/blob/master/Empty_CNN_tutorial.ipynb\" target=\"_parent\"><img src=\"https://colab.research.google.com/assets/colab-badge.svg\" alt=\"Open In Colab\"/></a>"
      ]
    },
    {
      "cell_type": "markdown",
      "metadata": {
        "id": "6Y8mytY6WVcF"
      },
      "source": [
        "#Tutorial on CNN\n",
        "We try to build a DNN that recognize if an image contains a rectangle or a circle, count how many rectangle and circles are there or find where in the image the rectangle/circle is."
      ]
    },
    {
      "cell_type": "markdown",
      "metadata": {
        "id": "uxgS64DmqCrH"
      },
      "source": [
        "## Import useful stuff"
      ]
    },
    {
      "cell_type": "code",
      "metadata": {
        "id": "jO_-Tguu60O9"
      },
      "source": [
        "from keras.layers import  #FILL ME# Which layers will be needed in a CNN ?\n",
        "from keras.models import Model\n",
        "import numpy as np\n",
        "from math import *\n",
        "from matplotlib import pyplot as plt "
      ],
      "execution_count": null,
      "outputs": []
    },
    {
      "cell_type": "markdown",
      "metadata": {
        "id": "JcejQQHu8WQa"
      },
      "source": [
        "## Lets generate some data\n",
        "\n",
        "We now generate ourself some images with a circle or a rectangle, of random color, in a random position.\n",
        "\n",
        "Three different modes of generating the images are implemented:\n",
        "\n",
        "*   A single shape per figure\n",
        "*   Multiple shapes mixed in each figure\n",
        "*   A single figure keeping track of the \"bounding box\"\n",
        "\n",
        "\n",
        "\n",
        "### Additional Exercise\n",
        "1. Try adding some random noise in the image background\n",
        "2. Try adding more classes such e.g. Lines or Ellipses\n"
      ]
    },
    {
      "cell_type": "code",
      "metadata": {
        "id": "LGItu2U4lVh7"
      },
      "source": [
        "import cv2\n",
        "\n",
        "simple =False #single shape per figure\n",
        "mixed  =False #multi shapes per figure\n",
        "withBB =True  #one shape with bounding boxes\n",
        "\n",
        "\n",
        "def background():\n",
        "  return np.zeros((64,64,3), np.uint8) #EX# How would you change this to add some background noise?\n",
        "\n",
        "def randomColor():\n",
        "  return (int(np.random.rand()*128+128),int(np.random.rand()*128+128),int(np.random.rand()*128+128))\n",
        "\n",
        "def drawCircle(c,x,y,r):\n",
        "  img = background()\n",
        "  cv2.circle(img,(x,y),r,c, -1)\n",
        "  return img,x-r,y-r,x+r,y+r   #return image and bounding box\n",
        "\n",
        "def genCircle():\n",
        "  return drawCircle(randomColor(),int(np.random.rand()*50)+10,int(np.random.rand()*50)+10,\n",
        "                    int(np.random.rand()*6)+3)\n",
        "\n",
        "def drawRectangle(c,x,y,w,h):\n",
        "  img = background()\n",
        "  cv2.rectangle(img,(x,y),((x+w),(y+h)), c, -1)\n",
        "  return img,x,y,x+w,y+h #return image and bounding box\n",
        "\n",
        "def genRectangle():\n",
        "  return drawRectangle(randomColor(),int(np.random.rand()*40)+10,int(np.random.rand()*40)+10,\n",
        "                       int(np.random.rand()*12)+5,int(np.random.rand()*12)+5)\n",
        "\n",
        "def genN(f,i): # generate multiple shapes\n",
        "  img = np.zeros((64,64,3), np.uint8)\n",
        "  for x in range(i):\n",
        "    img+=f()[0] #discard bb info, take only image\n",
        "  return img\n",
        "\n",
        "nsamples=50000\n",
        "\n",
        "#produce figures with either a rectangle or a circle\n",
        "if simple :\n",
        "  targets=np.array([np.random.rand()>0.5 for x in range(nsamples) ])\n",
        "  images=np.array([genCircle()[0] if targets[x] else genRectangle()[0] for x in range(nsamples)])\n",
        "\n",
        "#produce figure with n rectangles and m circles\n",
        "if mixed:\n",
        "  targets=np.array([(int(np.random.rand()*4),int(np.random.rand()*4)) for x in range(nsamples) ])\n",
        "  images=np.array([genN(genRectangle,targets[x,0])+genN(genCircle,targets[x,1]) for x in range(nsamples)])\n",
        "\n",
        "if withBB : \n",
        "#produce figures with either a rectangle or a circle\n",
        "  targets=np.array([np.random.rand()>0.5 for x in range(nsamples) ])\n",
        "  imagesWithBB=[genCircle() if targets[x] else genRectangle() for x in range(nsamples)]\n",
        "  images=np.array([imagesWithBB[x][0] for x in range(nsamples)])\n",
        "  boundingBoxes=np.array([imagesWithBB[x][1:] for x in range(nsamples)])\n"
      ],
      "execution_count": null,
      "outputs": []
    },
    {
      "cell_type": "markdown",
      "metadata": {
        "id": "XArMXTtMW97o"
      },
      "source": [
        "Let's show a few of the generated images"
      ]
    },
    {
      "cell_type": "code",
      "metadata": {
        "id": "YiUPPdZ6pNsi",
        "outputId": "efc1fb23-5888-4cb5-da7d-10b81c213d00",
        "colab": {
          "base_uri": "https://localhost:8080/",
          "height": 637
        }
      },
      "source": [
        "#FILL ME# print the shape of the images and target data\n",
        "#FILL ME# print the the first N entries of the target data\n",
        "\n",
        "#show the first 4 images#\n",
        "for i in range(4):\n",
        "  plt.imshow(images[i])\n",
        "  plt.show()\n",
        "\n",
        "#\n",
        "#if withBB:\n",
        "#  FILL ME#  print bounding box shapes and first N entries\n",
        "  "
      ],
      "execution_count": null,
      "outputs": [
        {
          "output_type": "stream",
          "text": [
            "(50000,)\n",
            "(50000, 64, 64, 3)\n",
            "[ True  True  True ...  True  True False]\n",
            "[ True  True]\n"
          ],
          "name": "stdout"
        },
        {
          "output_type": "display_data",
          "data": {
            "image/png": "[encoded data removed]",
            "text/plain": [
              "<Figure size 432x288 with 1 Axes>"
            ]
          },
          "metadata": {
            "tags": [],
            "needs_background": "light"
          }
        },
        {
          "output_type": "stream",
          "text": [
            "(50000, 4)\n",
            "[[23 23 33 33]\n",
            " [ 8 16 20 28]]\n"
          ],
          "name": "stdout"
        },
        {
          "output_type": "display_data",
          "data": {
            "image/png": "[encoded data removed]",
            "text/plain": [
              "<Figure size 432x288 with 1 Axes>"
            ]
          },
          "metadata": {
            "tags": [],
            "needs_background": "light"
          }
        }
      ]
    },
    {
      "cell_type": "markdown",
      "metadata": {
        "id": "qeU8chiYxtSu"
      },
      "source": [
        "\n",
        "## Additional Exercise\n",
        "3. If we have more categories (let say N) we should use a categorical label that is a vector of length N with 1 on the category(/ies) the image belong to and 0 in the others. Try to build a categorical label for two categories \n",
        "\n",
        "4. Expand the categorical label to  Ellispes or  Lines  and possibly also non exclusive categories such has 2D vs 1D objects"
      ]
    },
    {
      "cell_type": "code",
      "metadata": {
        "id": "MN1px9PfBp9y"
      },
      "source": [
        "#QUESTION# What are the tensors now corresponding to \"X\" and \"y\" (with previous lecture notation) ?\n",
        "if withBB :\n",
        "    labels=[targets,boundingBoxes] \n",
        "else:\n",
        "    labels=targets\n",
        "\n"
      ],
      "execution_count": null,
      "outputs": []
    },
    {
      "cell_type": "markdown",
      "metadata": {
        "id": "3NibVPZhC3hL"
      },
      "source": [
        "# Let's build a CNN \n",
        "\n",
        "Now we build our first CNN. We have some Conv layers interleaved with MaxPooling, and finally we flatten the output of the convolutional stack and appply a Dense FF:\n",
        "![alt text](https://missinglink.ai/wp-content/uploads/2019/08/LeNet-5-1998.png)\n",
        "\n",
        "\n",
        "### MaxPooling\n",
        "![alt text](https://computersciencewiki.org/images/8/8a/MaxpoolSample2.png)\n",
        "\n",
        "### Additional Exercise\n",
        "5. Try adding/removing convolutional layers, change the kernel size, try to add dropout\n",
        "6. Try changing the model to categorical labels, change loss function from binary_crossentropy to categorical_crossentropy, and use softmax activation instead of sigmoid\n"
      ]
    },
    {
      "cell_type": "code",
      "metadata": {
        "id": "pJLV4GOu9vGu",
        "outputId": "7364a1df-b2db-4cac-e396-801cd426a566",
        "colab": {
          "base_uri": "https://localhost:8080/"
        }
      },
      "source": [
        "inputs=Input(shape=(.... )) #FILL ME# What is the input shape?\n",
        "# try building a CNN with three 2D Conv layers with a number of filters between 3 and 10\n",
        "# interleave them with with Max  pooling layers\n",
        "# then use the \"Flatten\" layer to forget the multidimensional shape\n",
        "# add a final Feed Forward DNN\n",
        "\n",
        "#FILL ME# now let's try to decide the output layer, the activation and the loss based on the problem we have \n",
        "if simple : \n",
        "  outputs =  #FILLME# what is the output shape in this case? which activation?\n",
        "  loss=\"\"  # [0,1] classification hence loss should be => .... ?\n",
        "if mixed : \n",
        "  outputs = #FILL ME#  Here we want to predict how many rect? and how many Circ?\n",
        "  loss='' #FILLME#\n",
        "if withBB : #In this case we have two separate output layers, two target tensors, two losses\n",
        "  output1 = Dense(1, activation='')(hidden) #FILLME# which activation for the circle vs rectangle classification? \n",
        "  output2 = Dense(4, activation='')(hidden) #FILLME# which activation to predict the 4 numbers of the bounding box ?\n",
        "  outputs=[output1,output2]\n",
        "  loss=[\"\",\"\"] #FILL ME # And which loss for each of the two outputs? (the final loss will be the sum unless we give them some additional weights)\n",
        "  \n",
        "model = Model(inputs=inputs, outputs=outputs)\n",
        "model.compile(loss=loss, optimizer='adam',metrics=['accuracy'])\n",
        "\n",
        "model.summary()\n",
        "\n",
        "#if withBB:\n",
        "#FILL ME#  try to print the graph of the network in this case\n"
      ],
      "execution_count": null,
      "outputs": [
        {
          "output_type": "error",
          "ename": "SyntaxError",
          "evalue": "ignored",
          "traceback": [
            "\u001b[0;36m  File \u001b[0;32m\"<ipython-input-1-f2949c6dadc2>\"\u001b[0;36m, line \u001b[0;32m1\u001b[0m\n\u001b[0;31m    inputs=Input(shape=(.... )) #FILL ME# What is the input shape?\u001b[0m\n\u001b[0m                             ^\u001b[0m\n\u001b[0;31mSyntaxError\u001b[0m\u001b[0;31m:\u001b[0m invalid syntax\n"
          ]
        }
      ]
    },
    {
      "cell_type": "markdown",
      "metadata": {
        "id": "S6JmJFU-9vtN"
      },
      "source": [
        "And now let's fit it to our data.\n",
        "The sample is automatically split in two so that 50% of it is used for validation and the other half for training\n"
      ]
    },
    {
      "cell_type": "code",
      "metadata": {
        "id": "KRMhsQ2nC6oa",
        "outputId": "3995bba5-7f1f-47e8-b48d-e4fc33755e31",
        "colab": {
          "base_uri": "https://localhost:8080/"
        }
      },
      "source": [
        "history=model.fit(....) #FILL ME# Who are \"X\" and \"y\" here?"
      ],
      "execution_count": null,
      "outputs": [
        {
          "output_type": "stream",
          "text": [
            "Epoch 1/100\n",
            "782/782 [==============================] - 10s 13ms/step - loss: 505.1486 - dense_2_loss: 1.6834 - dense_3_loss: 503.4650 - dense_2_accuracy: 0.5250 - dense_3_accuracy: 0.4863 - val_loss: 459.0627 - val_dense_2_loss: 0.9602 - val_dense_3_loss: 458.1024 - val_dense_2_accuracy: 0.5561 - val_dense_3_accuracy: 0.5070\n",
            "Epoch 2/100\n",
            "782/782 [==============================] - 9s 11ms/step - loss: 453.8395 - dense_2_loss: 0.8503 - dense_3_loss: 452.9892 - dense_2_accuracy: 0.5796 - dense_3_accuracy: 0.5128 - val_loss: 454.3188 - val_dense_2_loss: 0.7682 - val_dense_3_loss: 453.5505 - val_dense_2_accuracy: 0.5941 - val_dense_3_accuracy: 0.5073\n",
            "Epoch 3/100\n",
            "782/782 [==============================] - 9s 11ms/step - loss: 451.3809 - dense_2_loss: 0.7539 - dense_3_loss: 450.6269 - dense_2_accuracy: 0.5918 - dense_3_accuracy: 0.5128 - val_loss: 451.9731 - val_dense_2_loss: 0.7077 - val_dense_3_loss: 451.2656 - val_dense_2_accuracy: 0.6128 - val_dense_3_accuracy: 0.5074\n",
            "Epoch 4/100\n",
            "782/782 [==============================] - 9s 12ms/step - loss: 450.6384 - dense_2_loss: 0.7086 - dense_3_loss: 449.9301 - dense_2_accuracy: 0.6078 - dense_3_accuracy: 0.5128 - val_loss: 452.0193 - val_dense_2_loss: 0.6900 - val_dense_3_loss: 451.3292 - val_dense_2_accuracy: 0.6172 - val_dense_3_accuracy: 0.5074\n",
            "Epoch 5/100\n",
            "782/782 [==============================] - 9s 11ms/step - loss: 123.6006 - dense_2_loss: 0.7488 - dense_3_loss: 122.8520 - dense_2_accuracy: 0.5926 - dense_3_accuracy: 0.8270 - val_loss: 6.7784 - val_dense_2_loss: 0.6749 - val_dense_3_loss: 6.1035 - val_dense_2_accuracy: 0.6222 - val_dense_3_accuracy: 0.9482\n",
            "Epoch 6/100\n",
            "782/782 [==============================] - 9s 11ms/step - loss: 5.8647 - dense_2_loss: 0.6802 - dense_3_loss: 5.1845 - dense_2_accuracy: 0.6099 - dense_3_accuracy: 0.9530 - val_loss: 7.3979 - val_dense_2_loss: 0.6919 - val_dense_3_loss: 6.7060 - val_dense_2_accuracy: 0.6167 - val_dense_3_accuracy: 0.9585\n",
            "Epoch 7/100\n",
            "782/782 [==============================] - 9s 11ms/step - loss: 4.7914 - dense_2_loss: 0.6639 - dense_3_loss: 4.1275 - dense_2_accuracy: 0.6160 - dense_3_accuracy: 0.9595 - val_loss: 5.2334 - val_dense_2_loss: 0.6600 - val_dense_3_loss: 4.5735 - val_dense_2_accuracy: 0.6284 - val_dense_3_accuracy: 0.9605\n",
            "Epoch 8/100\n",
            "782/782 [==============================] - 9s 11ms/step - loss: 4.3890 - dense_2_loss: 0.6564 - dense_3_loss: 3.7326 - dense_2_accuracy: 0.6205 - dense_3_accuracy: 0.9599 - val_loss: 4.5066 - val_dense_2_loss: 0.6531 - val_dense_3_loss: 3.8535 - val_dense_2_accuracy: 0.6062 - val_dense_3_accuracy: 0.9624\n",
            "Epoch 9/100\n",
            "782/782 [==============================] - 9s 11ms/step - loss: 4.0728 - dense_2_loss: 0.6502 - dense_3_loss: 3.4226 - dense_2_accuracy: 0.6263 - dense_3_accuracy: 0.9623 - val_loss: 3.4448 - val_dense_2_loss: 0.6345 - val_dense_3_loss: 2.8104 - val_dense_2_accuracy: 0.6275 - val_dense_3_accuracy: 0.9686\n",
            "Epoch 10/100\n",
            "782/782 [==============================] - 9s 11ms/step - loss: 3.9403 - dense_2_loss: 0.6428 - dense_3_loss: 3.2975 - dense_2_accuracy: 0.6264 - dense_3_accuracy: 0.9640 - val_loss: 4.4130 - val_dense_2_loss: 0.6265 - val_dense_3_loss: 3.7865 - val_dense_2_accuracy: 0.6424 - val_dense_3_accuracy: 0.9684\n",
            "Epoch 11/100\n",
            "782/782 [==============================] - 9s 11ms/step - loss: 3.6592 - dense_2_loss: 0.6370 - dense_3_loss: 3.0223 - dense_2_accuracy: 0.6296 - dense_3_accuracy: 0.9646 - val_loss: 4.2538 - val_dense_2_loss: 0.6433 - val_dense_3_loss: 3.6105 - val_dense_2_accuracy: 0.6020 - val_dense_3_accuracy: 0.9699\n",
            "Epoch 12/100\n",
            "782/782 [==============================] - 9s 11ms/step - loss: 3.5672 - dense_2_loss: 0.6278 - dense_3_loss: 2.9394 - dense_2_accuracy: 0.6391 - dense_3_accuracy: 0.9663 - val_loss: 3.1811 - val_dense_2_loss: 0.6213 - val_dense_3_loss: 2.5598 - val_dense_2_accuracy: 0.6539 - val_dense_3_accuracy: 0.9687\n",
            "Epoch 13/100\n",
            "782/782 [==============================] - 9s 11ms/step - loss: 3.4351 - dense_2_loss: 0.6251 - dense_3_loss: 2.8099 - dense_2_accuracy: 0.6404 - dense_3_accuracy: 0.9670 - val_loss: 4.2073 - val_dense_2_loss: 0.6195 - val_dense_3_loss: 3.5878 - val_dense_2_accuracy: 0.6575 - val_dense_3_accuracy: 0.9621\n",
            "Epoch 14/100\n",
            "782/782 [==============================] - 9s 11ms/step - loss: 3.2590 - dense_2_loss: 0.6255 - dense_3_loss: 2.6335 - dense_2_accuracy: 0.6402 - dense_3_accuracy: 0.9675 - val_loss: 2.9912 - val_dense_2_loss: 0.6135 - val_dense_3_loss: 2.3777 - val_dense_2_accuracy: 0.6412 - val_dense_3_accuracy: 0.9703\n",
            "Epoch 15/100\n",
            "782/782 [==============================] - 9s 11ms/step - loss: 3.2311 - dense_2_loss: 0.6249 - dense_3_loss: 2.6062 - dense_2_accuracy: 0.6387 - dense_3_accuracy: 0.9674 - val_loss: 3.2103 - val_dense_2_loss: 0.6150 - val_dense_3_loss: 2.5953 - val_dense_2_accuracy: 0.6497 - val_dense_3_accuracy: 0.9680\n",
            "Epoch 16/100\n",
            "782/782 [==============================] - 9s 11ms/step - loss: 3.2653 - dense_2_loss: 0.6211 - dense_3_loss: 2.6443 - dense_2_accuracy: 0.6428 - dense_3_accuracy: 0.9681 - val_loss: 3.1835 - val_dense_2_loss: 0.6111 - val_dense_3_loss: 2.5725 - val_dense_2_accuracy: 0.6519 - val_dense_3_accuracy: 0.9724\n",
            "Epoch 17/100\n",
            "782/782 [==============================] - 9s 11ms/step - loss: 3.0241 - dense_2_loss: 0.6163 - dense_3_loss: 2.4078 - dense_2_accuracy: 0.6467 - dense_3_accuracy: 0.9688 - val_loss: 3.7728 - val_dense_2_loss: 0.6077 - val_dense_3_loss: 3.1651 - val_dense_2_accuracy: 0.6450 - val_dense_3_accuracy: 0.9730\n",
            "Epoch 18/100\n",
            "782/782 [==============================] - 9s 11ms/step - loss: 2.8969 - dense_2_loss: 0.6183 - dense_3_loss: 2.2787 - dense_2_accuracy: 0.6434 - dense_3_accuracy: 0.9692 - val_loss: 2.8420 - val_dense_2_loss: 0.6117 - val_dense_3_loss: 2.2303 - val_dense_2_accuracy: 0.6614 - val_dense_3_accuracy: 0.9560\n",
            "Epoch 19/100\n",
            "782/782 [==============================] - 9s 11ms/step - loss: 2.9382 - dense_2_loss: 0.6167 - dense_3_loss: 2.3215 - dense_2_accuracy: 0.6457 - dense_3_accuracy: 0.9701 - val_loss: 4.2507 - val_dense_2_loss: 0.6075 - val_dense_3_loss: 3.6432 - val_dense_2_accuracy: 0.6513 - val_dense_3_accuracy: 0.9732\n",
            "Epoch 20/100\n",
            "782/782 [==============================] - 9s 11ms/step - loss: 3.0146 - dense_2_loss: 0.6133 - dense_3_loss: 2.4014 - dense_2_accuracy: 0.6472 - dense_3_accuracy: 0.9676 - val_loss: 2.9627 - val_dense_2_loss: 0.6032 - val_dense_3_loss: 2.3595 - val_dense_2_accuracy: 0.6531 - val_dense_3_accuracy: 0.9668\n",
            "Epoch 21/100\n",
            "782/782 [==============================] - 9s 11ms/step - loss: 2.7602 - dense_2_loss: 0.6112 - dense_3_loss: 2.1490 - dense_2_accuracy: 0.6486 - dense_3_accuracy: 0.9709 - val_loss: 2.5634 - val_dense_2_loss: 0.6064 - val_dense_3_loss: 1.9570 - val_dense_2_accuracy: 0.6446 - val_dense_3_accuracy: 0.9708\n",
            "Epoch 22/100\n",
            "782/782 [==============================] - 9s 11ms/step - loss: 3.2247 - dense_2_loss: 0.6108 - dense_3_loss: 2.6140 - dense_2_accuracy: 0.6506 - dense_3_accuracy: 0.9700 - val_loss: 2.9906 - val_dense_2_loss: 0.6049 - val_dense_3_loss: 2.3856 - val_dense_2_accuracy: 0.6641 - val_dense_3_accuracy: 0.9740\n",
            "Epoch 23/100\n",
            "782/782 [==============================] - 9s 11ms/step - loss: 2.6334 - dense_2_loss: 0.6105 - dense_3_loss: 2.0228 - dense_2_accuracy: 0.6485 - dense_3_accuracy: 0.9727 - val_loss: 2.8540 - val_dense_2_loss: 0.5988 - val_dense_3_loss: 2.2552 - val_dense_2_accuracy: 0.6566 - val_dense_3_accuracy: 0.9750\n",
            "Epoch 24/100\n",
            "782/782 [==============================] - 9s 11ms/step - loss: 2.5867 - dense_2_loss: 0.6079 - dense_3_loss: 1.9788 - dense_2_accuracy: 0.6509 - dense_3_accuracy: 0.9719 - val_loss: 2.5791 - val_dense_2_loss: 0.5973 - val_dense_3_loss: 1.9819 - val_dense_2_accuracy: 0.6608 - val_dense_3_accuracy: 0.9733\n",
            "Epoch 25/100\n",
            "782/782 [==============================] - 9s 11ms/step - loss: 2.9265 - dense_2_loss: 0.6085 - dense_3_loss: 2.3180 - dense_2_accuracy: 0.6536 - dense_3_accuracy: 0.9710 - val_loss: 2.5625 - val_dense_2_loss: 0.6133 - val_dense_3_loss: 1.9492 - val_dense_2_accuracy: 0.6631 - val_dense_3_accuracy: 0.9754\n",
            "Epoch 26/100\n",
            "782/782 [==============================] - 9s 11ms/step - loss: 2.5792 - dense_2_loss: 0.6057 - dense_3_loss: 1.9736 - dense_2_accuracy: 0.6553 - dense_3_accuracy: 0.9736 - val_loss: 2.7813 - val_dense_2_loss: 0.5973 - val_dense_3_loss: 2.1839 - val_dense_2_accuracy: 0.6591 - val_dense_3_accuracy: 0.9535\n",
            "Epoch 27/100\n",
            "782/782 [==============================] - 9s 11ms/step - loss: 2.7143 - dense_2_loss: 0.6045 - dense_3_loss: 2.1097 - dense_2_accuracy: 0.6560 - dense_3_accuracy: 0.9719 - val_loss: 2.4635 - val_dense_2_loss: 0.5953 - val_dense_3_loss: 1.8682 - val_dense_2_accuracy: 0.6610 - val_dense_3_accuracy: 0.9742\n",
            "Epoch 28/100\n",
            "782/782 [==============================] - 9s 11ms/step - loss: 2.5467 - dense_2_loss: 0.6029 - dense_3_loss: 1.9438 - dense_2_accuracy: 0.6564 - dense_3_accuracy: 0.9738 - val_loss: 2.5389 - val_dense_2_loss: 0.5993 - val_dense_3_loss: 1.9396 - val_dense_2_accuracy: 0.6520 - val_dense_3_accuracy: 0.9737\n",
            "Epoch 29/100\n",
            "782/782 [==============================] - 9s 12ms/step - loss: 2.6393 - dense_2_loss: 0.6055 - dense_3_loss: 2.0339 - dense_2_accuracy: 0.6559 - dense_3_accuracy: 0.9732 - val_loss: 4.4053 - val_dense_2_loss: 0.6132 - val_dense_3_loss: 3.7921 - val_dense_2_accuracy: 0.6616 - val_dense_3_accuracy: 0.9651\n",
            "Epoch 30/100\n",
            "782/782 [==============================] - 9s 11ms/step - loss: 2.5050 - dense_2_loss: 0.6016 - dense_3_loss: 1.9033 - dense_2_accuracy: 0.6601 - dense_3_accuracy: 0.9735 - val_loss: 2.4347 - val_dense_2_loss: 0.5954 - val_dense_3_loss: 1.8393 - val_dense_2_accuracy: 0.6596 - val_dense_3_accuracy: 0.9760\n",
            "Epoch 31/100\n",
            "782/782 [==============================] - 9s 11ms/step - loss: 2.4066 - dense_2_loss: 0.6009 - dense_3_loss: 1.8057 - dense_2_accuracy: 0.6599 - dense_3_accuracy: 0.9738 - val_loss: 3.0106 - val_dense_2_loss: 0.6039 - val_dense_3_loss: 2.4068 - val_dense_2_accuracy: 0.6466 - val_dense_3_accuracy: 0.9754\n",
            "Epoch 32/100\n",
            "782/782 [==============================] - 9s 11ms/step - loss: 2.5773 - dense_2_loss: 0.6002 - dense_3_loss: 1.9771 - dense_2_accuracy: 0.6580 - dense_3_accuracy: 0.9731 - val_loss: 2.2438 - val_dense_2_loss: 0.5929 - val_dense_3_loss: 1.6509 - val_dense_2_accuracy: 0.6581 - val_dense_3_accuracy: 0.9751\n",
            "Epoch 33/100\n",
            "782/782 [==============================] - 9s 11ms/step - loss: 2.4466 - dense_2_loss: 0.6005 - dense_3_loss: 1.8461 - dense_2_accuracy: 0.6575 - dense_3_accuracy: 0.9745 - val_loss: 2.7345 - val_dense_2_loss: 0.6530 - val_dense_3_loss: 2.0815 - val_dense_2_accuracy: 0.6546 - val_dense_3_accuracy: 0.9731\n",
            "Epoch 34/100\n",
            "782/782 [==============================] - 9s 11ms/step - loss: 2.4198 - dense_2_loss: 0.6011 - dense_3_loss: 1.8186 - dense_2_accuracy: 0.6544 - dense_3_accuracy: 0.9752 - val_loss: 2.4659 - val_dense_2_loss: 0.5949 - val_dense_3_loss: 1.8711 - val_dense_2_accuracy: 0.6661 - val_dense_3_accuracy: 0.9711\n",
            "Epoch 35/100\n",
            "782/782 [==============================] - 9s 12ms/step - loss: 2.3807 - dense_2_loss: 0.5975 - dense_3_loss: 1.7832 - dense_2_accuracy: 0.6586 - dense_3_accuracy: 0.9749 - val_loss: 2.4011 - val_dense_2_loss: 0.5917 - val_dense_3_loss: 1.8094 - val_dense_2_accuracy: 0.6669 - val_dense_3_accuracy: 0.9781\n",
            "Epoch 36/100\n",
            "782/782 [==============================] - 9s 12ms/step - loss: 2.4464 - dense_2_loss: 0.5958 - dense_3_loss: 1.8506 - dense_2_accuracy: 0.6626 - dense_3_accuracy: 0.9754 - val_loss: 3.4051 - val_dense_2_loss: 0.6093 - val_dense_3_loss: 2.7958 - val_dense_2_accuracy: 0.6324 - val_dense_3_accuracy: 0.9798\n",
            "Epoch 37/100\n",
            "782/782 [==============================] - 9s 11ms/step - loss: 2.4041 - dense_2_loss: 0.5955 - dense_3_loss: 1.8086 - dense_2_accuracy: 0.6591 - dense_3_accuracy: 0.9745 - val_loss: 2.2592 - val_dense_2_loss: 0.5901 - val_dense_3_loss: 1.6691 - val_dense_2_accuracy: 0.6632 - val_dense_3_accuracy: 0.9790\n",
            "Epoch 38/100\n",
            "782/782 [==============================] - 9s 12ms/step - loss: 2.5934 - dense_2_loss: 0.5943 - dense_3_loss: 1.9991 - dense_2_accuracy: 0.6617 - dense_3_accuracy: 0.9744 - val_loss: 2.3158 - val_dense_2_loss: 0.5881 - val_dense_3_loss: 1.7277 - val_dense_2_accuracy: 0.6591 - val_dense_3_accuracy: 0.9777\n",
            "Epoch 39/100\n",
            "782/782 [==============================] - 9s 11ms/step - loss: 2.2770 - dense_2_loss: 0.5883 - dense_3_loss: 1.6886 - dense_2_accuracy: 0.6642 - dense_3_accuracy: 0.9761 - val_loss: 2.1497 - val_dense_2_loss: 0.5838 - val_dense_3_loss: 1.5659 - val_dense_2_accuracy: 0.6672 - val_dense_3_accuracy: 0.9643\n",
            "Epoch 40/100\n",
            "782/782 [==============================] - 9s 11ms/step - loss: 2.2734 - dense_2_loss: 0.5870 - dense_3_loss: 1.6864 - dense_2_accuracy: 0.6651 - dense_3_accuracy: 0.9767 - val_loss: 2.0952 - val_dense_2_loss: 0.5781 - val_dense_3_loss: 1.5170 - val_dense_2_accuracy: 0.6647 - val_dense_3_accuracy: 0.9803\n",
            "Epoch 41/100\n",
            "782/782 [==============================] - 9s 12ms/step - loss: 2.2781 - dense_2_loss: 0.5819 - dense_3_loss: 1.6962 - dense_2_accuracy: 0.6665 - dense_3_accuracy: 0.9758 - val_loss: 2.3657 - val_dense_2_loss: 0.5741 - val_dense_3_loss: 1.7916 - val_dense_2_accuracy: 0.6730 - val_dense_3_accuracy: 0.9794\n",
            "Epoch 42/100\n",
            "782/782 [==============================] - 9s 11ms/step - loss: 2.2550 - dense_2_loss: 0.5777 - dense_3_loss: 1.6772 - dense_2_accuracy: 0.6672 - dense_3_accuracy: 0.9766 - val_loss: 2.8221 - val_dense_2_loss: 0.5713 - val_dense_3_loss: 2.2508 - val_dense_2_accuracy: 0.6756 - val_dense_3_accuracy: 0.9779\n",
            "Epoch 43/100\n",
            "782/782 [==============================] - 9s 12ms/step - loss: 2.2475 - dense_2_loss: 0.5713 - dense_3_loss: 1.6762 - dense_2_accuracy: 0.6724 - dense_3_accuracy: 0.9763 - val_loss: 2.1620 - val_dense_2_loss: 0.5681 - val_dense_3_loss: 1.5939 - val_dense_2_accuracy: 0.6757 - val_dense_3_accuracy: 0.9796\n",
            "Epoch 44/100\n",
            "782/782 [==============================] - 9s 12ms/step - loss: 2.3928 - dense_2_loss: 0.5669 - dense_3_loss: 1.8259 - dense_2_accuracy: 0.6762 - dense_3_accuracy: 0.9755 - val_loss: 2.5590 - val_dense_2_loss: 0.5718 - val_dense_3_loss: 1.9873 - val_dense_2_accuracy: 0.6738 - val_dense_3_accuracy: 0.9793\n",
            "Epoch 45/100\n",
            "782/782 [==============================] - 9s 11ms/step - loss: 2.2713 - dense_2_loss: 0.5610 - dense_3_loss: 1.7103 - dense_2_accuracy: 0.6805 - dense_3_accuracy: 0.9750 - val_loss: 2.2460 - val_dense_2_loss: 0.5568 - val_dense_3_loss: 1.6892 - val_dense_2_accuracy: 0.6805 - val_dense_3_accuracy: 0.9738\n",
            "Epoch 46/100\n",
            "782/782 [==============================] - 9s 11ms/step - loss: 2.1628 - dense_2_loss: 0.5547 - dense_3_loss: 1.6080 - dense_2_accuracy: 0.6861 - dense_3_accuracy: 0.9772 - val_loss: 2.5830 - val_dense_2_loss: 0.5453 - val_dense_3_loss: 2.0377 - val_dense_2_accuracy: 0.6845 - val_dense_3_accuracy: 0.9834\n",
            "Epoch 47/100\n",
            "782/782 [==============================] - 9s 11ms/step - loss: 2.1373 - dense_2_loss: 0.5466 - dense_3_loss: 1.5907 - dense_2_accuracy: 0.6925 - dense_3_accuracy: 0.9769 - val_loss: 2.8193 - val_dense_2_loss: 0.5376 - val_dense_3_loss: 2.2817 - val_dense_2_accuracy: 0.6969 - val_dense_3_accuracy: 0.9703\n",
            "Epoch 48/100\n",
            "782/782 [==============================] - 9s 11ms/step - loss: 2.2189 - dense_2_loss: 0.5429 - dense_3_loss: 1.6760 - dense_2_accuracy: 0.6957 - dense_3_accuracy: 0.9770 - val_loss: 2.0584 - val_dense_2_loss: 0.5421 - val_dense_3_loss: 1.5162 - val_dense_2_accuracy: 0.6906 - val_dense_3_accuracy: 0.9712\n",
            "Epoch 49/100\n",
            "782/782 [==============================] - 9s 12ms/step - loss: 2.1292 - dense_2_loss: 0.5391 - dense_3_loss: 1.5901 - dense_2_accuracy: 0.6955 - dense_3_accuracy: 0.9770 - val_loss: 2.4220 - val_dense_2_loss: 0.5625 - val_dense_3_loss: 1.8595 - val_dense_2_accuracy: 0.6669 - val_dense_3_accuracy: 0.9812\n",
            "Epoch 50/100\n",
            "782/782 [==============================] - 9s 12ms/step - loss: 2.2442 - dense_2_loss: 0.5365 - dense_3_loss: 1.7076 - dense_2_accuracy: 0.6993 - dense_3_accuracy: 0.9754 - val_loss: 2.1043 - val_dense_2_loss: 0.5282 - val_dense_3_loss: 1.5761 - val_dense_2_accuracy: 0.7038 - val_dense_3_accuracy: 0.9784\n",
            "Epoch 51/100\n",
            "782/782 [==============================] - 9s 11ms/step - loss: 2.0892 - dense_2_loss: 0.5276 - dense_3_loss: 1.5617 - dense_2_accuracy: 0.7056 - dense_3_accuracy: 0.9776 - val_loss: 1.9015 - val_dense_2_loss: 0.5297 - val_dense_3_loss: 1.3718 - val_dense_2_accuracy: 0.7078 - val_dense_3_accuracy: 0.9749\n",
            "Epoch 52/100\n",
            "782/782 [==============================] - 9s 11ms/step - loss: 2.1161 - dense_2_loss: 0.5271 - dense_3_loss: 1.5890 - dense_2_accuracy: 0.7068 - dense_3_accuracy: 0.9770 - val_loss: 2.0611 - val_dense_2_loss: 0.5314 - val_dense_3_loss: 1.5296 - val_dense_2_accuracy: 0.7158 - val_dense_3_accuracy: 0.9805\n",
            "Epoch 53/100\n",
            "782/782 [==============================] - 9s 11ms/step - loss: 2.0892 - dense_2_loss: 0.5233 - dense_3_loss: 1.5659 - dense_2_accuracy: 0.7084 - dense_3_accuracy: 0.9773 - val_loss: 3.0115 - val_dense_2_loss: 0.5338 - val_dense_3_loss: 2.4777 - val_dense_2_accuracy: 0.7121 - val_dense_3_accuracy: 0.9826\n",
            "Epoch 54/100\n",
            "782/782 [==============================] - 9s 11ms/step - loss: 2.0589 - dense_2_loss: 0.5186 - dense_3_loss: 1.5403 - dense_2_accuracy: 0.7135 - dense_3_accuracy: 0.9782 - val_loss: 2.0363 - val_dense_2_loss: 0.5274 - val_dense_3_loss: 1.5089 - val_dense_2_accuracy: 0.6990 - val_dense_3_accuracy: 0.9825\n",
            "Epoch 55/100\n",
            "782/782 [==============================] - 9s 12ms/step - loss: 2.2036 - dense_2_loss: 0.5203 - dense_3_loss: 1.6832 - dense_2_accuracy: 0.7114 - dense_3_accuracy: 0.9774 - val_loss: 2.0354 - val_dense_2_loss: 0.5090 - val_dense_3_loss: 1.5264 - val_dense_2_accuracy: 0.7217 - val_dense_3_accuracy: 0.9716\n",
            "Epoch 56/100\n",
            "782/782 [==============================] - 9s 11ms/step - loss: 2.3357 - dense_2_loss: 0.5229 - dense_3_loss: 1.8129 - dense_2_accuracy: 0.7158 - dense_3_accuracy: 0.9748 - val_loss: 2.2805 - val_dense_2_loss: 0.5440 - val_dense_3_loss: 1.7365 - val_dense_2_accuracy: 0.6876 - val_dense_3_accuracy: 0.9681\n",
            "Epoch 57/100\n",
            "782/782 [==============================] - 9s 12ms/step - loss: 2.0193 - dense_2_loss: 0.5086 - dense_3_loss: 1.5107 - dense_2_accuracy: 0.7210 - dense_3_accuracy: 0.9778 - val_loss: 1.9376 - val_dense_2_loss: 0.5226 - val_dense_3_loss: 1.4150 - val_dense_2_accuracy: 0.7214 - val_dense_3_accuracy: 0.9827\n",
            "Epoch 58/100\n",
            "782/782 [==============================] - 9s 12ms/step - loss: 2.0936 - dense_2_loss: 0.5113 - dense_3_loss: 1.5823 - dense_2_accuracy: 0.7190 - dense_3_accuracy: 0.9779 - val_loss: 2.4851 - val_dense_2_loss: 0.5151 - val_dense_3_loss: 1.9699 - val_dense_2_accuracy: 0.7180 - val_dense_3_accuracy: 0.9816\n",
            "Epoch 59/100\n",
            "782/782 [==============================] - 9s 11ms/step - loss: 2.0114 - dense_2_loss: 0.5052 - dense_3_loss: 1.5063 - dense_2_accuracy: 0.7238 - dense_3_accuracy: 0.9786 - val_loss: 1.8953 - val_dense_2_loss: 0.5033 - val_dense_3_loss: 1.3920 - val_dense_2_accuracy: 0.7228 - val_dense_3_accuracy: 0.9840\n",
            "Epoch 60/100\n",
            "782/782 [==============================] - 9s 12ms/step - loss: 1.9889 - dense_2_loss: 0.5065 - dense_3_loss: 1.4824 - dense_2_accuracy: 0.7238 - dense_3_accuracy: 0.9778 - val_loss: 2.1149 - val_dense_2_loss: 0.5105 - val_dense_3_loss: 1.6044 - val_dense_2_accuracy: 0.7120 - val_dense_3_accuracy: 0.9801\n",
            "Epoch 61/100\n",
            "782/782 [==============================] - 9s 12ms/step - loss: 2.0203 - dense_2_loss: 0.5032 - dense_3_loss: 1.5172 - dense_2_accuracy: 0.7267 - dense_3_accuracy: 0.9770 - val_loss: 1.9604 - val_dense_2_loss: 0.5118 - val_dense_3_loss: 1.4486 - val_dense_2_accuracy: 0.7260 - val_dense_3_accuracy: 0.9791\n",
            "Epoch 62/100\n",
            "782/782 [==============================] - 9s 12ms/step - loss: 2.0190 - dense_2_loss: 0.5020 - dense_3_loss: 1.5170 - dense_2_accuracy: 0.7288 - dense_3_accuracy: 0.9784 - val_loss: 2.2172 - val_dense_2_loss: 0.5003 - val_dense_3_loss: 1.7169 - val_dense_2_accuracy: 0.7260 - val_dense_3_accuracy: 0.9818\n",
            "Epoch 63/100\n",
            "782/782 [==============================] - 9s 12ms/step - loss: 2.0560 - dense_2_loss: 0.4984 - dense_3_loss: 1.5576 - dense_2_accuracy: 0.7316 - dense_3_accuracy: 0.9790 - val_loss: 2.2638 - val_dense_2_loss: 0.4992 - val_dense_3_loss: 1.7646 - val_dense_2_accuracy: 0.7386 - val_dense_3_accuracy: 0.9767\n",
            "Epoch 64/100\n",
            "782/782 [==============================] - 9s 12ms/step - loss: 1.9988 - dense_2_loss: 0.4965 - dense_3_loss: 1.5023 - dense_2_accuracy: 0.7309 - dense_3_accuracy: 0.9780 - val_loss: 1.9204 - val_dense_2_loss: 0.4977 - val_dense_3_loss: 1.4227 - val_dense_2_accuracy: 0.7297 - val_dense_3_accuracy: 0.9750\n",
            "Epoch 65/100\n",
            "782/782 [==============================] - 9s 12ms/step - loss: 2.0698 - dense_2_loss: 0.4986 - dense_3_loss: 1.5712 - dense_2_accuracy: 0.7305 - dense_3_accuracy: 0.9780 - val_loss: 1.9514 - val_dense_2_loss: 0.4906 - val_dense_3_loss: 1.4608 - val_dense_2_accuracy: 0.7355 - val_dense_3_accuracy: 0.9744\n",
            "Epoch 66/100\n",
            "782/782 [==============================] - 9s 12ms/step - loss: 1.9853 - dense_2_loss: 0.4938 - dense_3_loss: 1.4915 - dense_2_accuracy: 0.7323 - dense_3_accuracy: 0.9789 - val_loss: 2.2506 - val_dense_2_loss: 0.4933 - val_dense_3_loss: 1.7574 - val_dense_2_accuracy: 0.7415 - val_dense_3_accuracy: 0.9792\n",
            "Epoch 67/100\n",
            "782/782 [==============================] - 9s 12ms/step - loss: 1.9664 - dense_2_loss: 0.4914 - dense_3_loss: 1.4750 - dense_2_accuracy: 0.7329 - dense_3_accuracy: 0.9779 - val_loss: 2.0289 - val_dense_2_loss: 0.4994 - val_dense_3_loss: 1.5294 - val_dense_2_accuracy: 0.7215 - val_dense_3_accuracy: 0.9767\n",
            "Epoch 68/100\n",
            "782/782 [==============================] - 9s 11ms/step - loss: 2.0099 - dense_2_loss: 0.4933 - dense_3_loss: 1.5166 - dense_2_accuracy: 0.7346 - dense_3_accuracy: 0.9786 - val_loss: 2.7946 - val_dense_2_loss: 0.4896 - val_dense_3_loss: 2.3050 - val_dense_2_accuracy: 0.7352 - val_dense_3_accuracy: 0.9840\n",
            "Epoch 69/100\n",
            "782/782 [==============================] - 9s 12ms/step - loss: 1.9969 - dense_2_loss: 0.4883 - dense_3_loss: 1.5087 - dense_2_accuracy: 0.7375 - dense_3_accuracy: 0.9780 - val_loss: 1.9342 - val_dense_2_loss: 0.4888 - val_dense_3_loss: 1.4454 - val_dense_2_accuracy: 0.7350 - val_dense_3_accuracy: 0.9754\n",
            "Epoch 70/100\n",
            "782/782 [==============================] - 10s 13ms/step - loss: 2.2282 - dense_2_loss: 0.5018 - dense_3_loss: 1.7264 - dense_2_accuracy: 0.7325 - dense_3_accuracy: 0.9768 - val_loss: 1.9578 - val_dense_2_loss: 0.5571 - val_dense_3_loss: 1.4006 - val_dense_2_accuracy: 0.7084 - val_dense_3_accuracy: 0.9783\n",
            "Epoch 71/100\n",
            "782/782 [==============================] - 9s 11ms/step - loss: 1.9054 - dense_2_loss: 0.4836 - dense_3_loss: 1.4219 - dense_2_accuracy: 0.7404 - dense_3_accuracy: 0.9790 - val_loss: 1.9350 - val_dense_2_loss: 0.5039 - val_dense_3_loss: 1.4311 - val_dense_2_accuracy: 0.7088 - val_dense_3_accuracy: 0.9751\n",
            "Epoch 72/100\n",
            "782/782 [==============================] - 9s 12ms/step - loss: 1.8638 - dense_2_loss: 0.4825 - dense_3_loss: 1.3813 - dense_2_accuracy: 0.7414 - dense_3_accuracy: 0.9806 - val_loss: 1.8403 - val_dense_2_loss: 0.4746 - val_dense_3_loss: 1.3656 - val_dense_2_accuracy: 0.7472 - val_dense_3_accuracy: 0.9827\n",
            "Epoch 73/100\n",
            "782/782 [==============================] - 9s 11ms/step - loss: 2.0166 - dense_2_loss: 0.4847 - dense_3_loss: 1.5319 - dense_2_accuracy: 0.7381 - dense_3_accuracy: 0.9785 - val_loss: 1.8115 - val_dense_2_loss: 0.4823 - val_dense_3_loss: 1.3292 - val_dense_2_accuracy: 0.7511 - val_dense_3_accuracy: 0.9822\n",
            "Epoch 74/100\n",
            "782/782 [==============================] - 9s 12ms/step - loss: 1.9198 - dense_2_loss: 0.4794 - dense_3_loss: 1.4404 - dense_2_accuracy: 0.7435 - dense_3_accuracy: 0.9798 - val_loss: 2.0344 - val_dense_2_loss: 0.5133 - val_dense_3_loss: 1.5210 - val_dense_2_accuracy: 0.7145 - val_dense_3_accuracy: 0.9837\n",
            "Epoch 75/100\n",
            "782/782 [==============================] - 9s 12ms/step - loss: 1.9059 - dense_2_loss: 0.4795 - dense_3_loss: 1.4264 - dense_2_accuracy: 0.7430 - dense_3_accuracy: 0.9796 - val_loss: 2.0299 - val_dense_2_loss: 0.4754 - val_dense_3_loss: 1.5546 - val_dense_2_accuracy: 0.7527 - val_dense_3_accuracy: 0.9764\n",
            "Epoch 76/100\n",
            "782/782 [==============================] - 9s 12ms/step - loss: 1.8987 - dense_2_loss: 0.4770 - dense_3_loss: 1.4218 - dense_2_accuracy: 0.7476 - dense_3_accuracy: 0.9792 - val_loss: 2.4539 - val_dense_2_loss: 0.4935 - val_dense_3_loss: 1.9605 - val_dense_2_accuracy: 0.7212 - val_dense_3_accuracy: 0.9823\n",
            "Epoch 77/100\n",
            "782/782 [==============================] - 9s 11ms/step - loss: 1.9573 - dense_2_loss: 0.4797 - dense_3_loss: 1.4776 - dense_2_accuracy: 0.7455 - dense_3_accuracy: 0.9787 - val_loss: 1.8107 - val_dense_2_loss: 0.4936 - val_dense_3_loss: 1.3171 - val_dense_2_accuracy: 0.7484 - val_dense_3_accuracy: 0.9800\n",
            "Epoch 78/100\n",
            "782/782 [==============================] - 9s 12ms/step - loss: 1.8775 - dense_2_loss: 0.4739 - dense_3_loss: 1.4036 - dense_2_accuracy: 0.7456 - dense_3_accuracy: 0.9799 - val_loss: 1.9728 - val_dense_2_loss: 0.4775 - val_dense_3_loss: 1.4954 - val_dense_2_accuracy: 0.7477 - val_dense_3_accuracy: 0.9742\n",
            "Epoch 79/100\n",
            "782/782 [==============================] - 9s 11ms/step - loss: 1.8935 - dense_2_loss: 0.4746 - dense_3_loss: 1.4189 - dense_2_accuracy: 0.7470 - dense_3_accuracy: 0.9776 - val_loss: 1.7814 - val_dense_2_loss: 0.4661 - val_dense_3_loss: 1.3153 - val_dense_2_accuracy: 0.7572 - val_dense_3_accuracy: 0.9830\n",
            "Epoch 80/100\n",
            "782/782 [==============================] - 9s 12ms/step - loss: 1.9971 - dense_2_loss: 0.4826 - dense_3_loss: 1.5145 - dense_2_accuracy: 0.7412 - dense_3_accuracy: 0.9788 - val_loss: 1.9636 - val_dense_2_loss: 0.5009 - val_dense_3_loss: 1.4627 - val_dense_2_accuracy: 0.7275 - val_dense_3_accuracy: 0.9748\n",
            "Epoch 81/100\n",
            "782/782 [==============================] - 9s 12ms/step - loss: 1.9072 - dense_2_loss: 0.4710 - dense_3_loss: 1.4361 - dense_2_accuracy: 0.7478 - dense_3_accuracy: 0.9810 - val_loss: 1.7332 - val_dense_2_loss: 0.4886 - val_dense_3_loss: 1.2446 - val_dense_2_accuracy: 0.7475 - val_dense_3_accuracy: 0.9830\n",
            "Epoch 82/100\n",
            "782/782 [==============================] - 9s 12ms/step - loss: 2.0968 - dense_2_loss: 0.4803 - dense_3_loss: 1.6165 - dense_2_accuracy: 0.7429 - dense_3_accuracy: 0.9781 - val_loss: 1.8851 - val_dense_2_loss: 0.4784 - val_dense_3_loss: 1.4067 - val_dense_2_accuracy: 0.7320 - val_dense_3_accuracy: 0.9826\n",
            "Epoch 83/100\n",
            "782/782 [==============================] - 9s 11ms/step - loss: 1.8473 - dense_2_loss: 0.4684 - dense_3_loss: 1.3789 - dense_2_accuracy: 0.7494 - dense_3_accuracy: 0.9789 - val_loss: 2.1961 - val_dense_2_loss: 0.4667 - val_dense_3_loss: 1.7295 - val_dense_2_accuracy: 0.7556 - val_dense_3_accuracy: 0.9728\n",
            "Epoch 84/100\n",
            "782/782 [==============================] - 9s 12ms/step - loss: 1.8603 - dense_2_loss: 0.4626 - dense_3_loss: 1.3977 - dense_2_accuracy: 0.7539 - dense_3_accuracy: 0.9792 - val_loss: 1.7548 - val_dense_2_loss: 0.4680 - val_dense_3_loss: 1.2867 - val_dense_2_accuracy: 0.7494 - val_dense_3_accuracy: 0.9704\n",
            "Epoch 85/100\n",
            "782/782 [==============================] - 9s 12ms/step - loss: 1.8184 - dense_2_loss: 0.4663 - dense_3_loss: 1.3521 - dense_2_accuracy: 0.7532 - dense_3_accuracy: 0.9796 - val_loss: 1.9211 - val_dense_2_loss: 0.5084 - val_dense_3_loss: 1.4127 - val_dense_2_accuracy: 0.7072 - val_dense_3_accuracy: 0.9729\n",
            "Epoch 86/100\n",
            "782/782 [==============================] - 9s 11ms/step - loss: 1.8855 - dense_2_loss: 0.4649 - dense_3_loss: 1.4206 - dense_2_accuracy: 0.7515 - dense_3_accuracy: 0.9806 - val_loss: 2.0667 - val_dense_2_loss: 0.4831 - val_dense_3_loss: 1.5836 - val_dense_2_accuracy: 0.7308 - val_dense_3_accuracy: 0.9826\n",
            "Epoch 87/100\n",
            "782/782 [==============================] - 9s 11ms/step - loss: 1.8365 - dense_2_loss: 0.4656 - dense_3_loss: 1.3708 - dense_2_accuracy: 0.7526 - dense_3_accuracy: 0.9801 - val_loss: 2.6054 - val_dense_2_loss: 0.4719 - val_dense_3_loss: 2.1336 - val_dense_2_accuracy: 0.7421 - val_dense_3_accuracy: 0.9806\n",
            "Epoch 88/100\n",
            "782/782 [==============================] - 9s 11ms/step - loss: 1.9164 - dense_2_loss: 0.4675 - dense_3_loss: 1.4489 - dense_2_accuracy: 0.7520 - dense_3_accuracy: 0.9807 - val_loss: 1.7267 - val_dense_2_loss: 0.4590 - val_dense_3_loss: 1.2677 - val_dense_2_accuracy: 0.7645 - val_dense_3_accuracy: 0.9769\n",
            "Epoch 89/100\n",
            "782/782 [==============================] - 9s 12ms/step - loss: 1.8123 - dense_2_loss: 0.4600 - dense_3_loss: 1.3523 - dense_2_accuracy: 0.7562 - dense_3_accuracy: 0.9797 - val_loss: 1.9552 - val_dense_2_loss: 0.4962 - val_dense_3_loss: 1.4589 - val_dense_2_accuracy: 0.7219 - val_dense_3_accuracy: 0.9816\n",
            "Epoch 90/100\n",
            "782/782 [==============================] - 9s 12ms/step - loss: 1.9155 - dense_2_loss: 0.4646 - dense_3_loss: 1.4509 - dense_2_accuracy: 0.7528 - dense_3_accuracy: 0.9797 - val_loss: 2.1365 - val_dense_2_loss: 0.4620 - val_dense_3_loss: 1.6744 - val_dense_2_accuracy: 0.7514 - val_dense_3_accuracy: 0.9784\n",
            "Epoch 91/100\n",
            "782/782 [==============================] - 9s 12ms/step - loss: 1.8329 - dense_2_loss: 0.4599 - dense_3_loss: 1.3730 - dense_2_accuracy: 0.7539 - dense_3_accuracy: 0.9796 - val_loss: 2.2446 - val_dense_2_loss: 0.4797 - val_dense_3_loss: 1.7649 - val_dense_2_accuracy: 0.7436 - val_dense_3_accuracy: 0.9796\n",
            "Epoch 92/100\n",
            "782/782 [==============================] - 9s 12ms/step - loss: 1.8212 - dense_2_loss: 0.4607 - dense_3_loss: 1.3605 - dense_2_accuracy: 0.7572 - dense_3_accuracy: 0.9807 - val_loss: 1.7151 - val_dense_2_loss: 0.4734 - val_dense_3_loss: 1.2418 - val_dense_2_accuracy: 0.7403 - val_dense_3_accuracy: 0.9829\n",
            "Epoch 93/100\n",
            "782/782 [==============================] - 9s 12ms/step - loss: 2.0327 - dense_2_loss: 0.4752 - dense_3_loss: 1.5574 - dense_2_accuracy: 0.7468 - dense_3_accuracy: 0.9787 - val_loss: 2.0541 - val_dense_2_loss: 0.4649 - val_dense_3_loss: 1.5892 - val_dense_2_accuracy: 0.7566 - val_dense_3_accuracy: 0.9814\n",
            "Epoch 94/100\n",
            "782/782 [==============================] - 9s 12ms/step - loss: 1.7675 - dense_2_loss: 0.4539 - dense_3_loss: 1.3136 - dense_2_accuracy: 0.7612 - dense_3_accuracy: 0.9811 - val_loss: 1.8290 - val_dense_2_loss: 0.4562 - val_dense_3_loss: 1.3728 - val_dense_2_accuracy: 0.7575 - val_dense_3_accuracy: 0.9830\n",
            "Epoch 95/100\n",
            "782/782 [==============================] - 9s 12ms/step - loss: 1.8057 - dense_2_loss: 0.4582 - dense_3_loss: 1.3475 - dense_2_accuracy: 0.7554 - dense_3_accuracy: 0.9806 - val_loss: 1.8276 - val_dense_2_loss: 0.4581 - val_dense_3_loss: 1.3695 - val_dense_2_accuracy: 0.7568 - val_dense_3_accuracy: 0.9819\n",
            "Epoch 96/100\n",
            "782/782 [==============================] - 9s 12ms/step - loss: 1.8052 - dense_2_loss: 0.4573 - dense_3_loss: 1.3479 - dense_2_accuracy: 0.7580 - dense_3_accuracy: 0.9797 - val_loss: 1.6888 - val_dense_2_loss: 0.4648 - val_dense_3_loss: 1.2239 - val_dense_2_accuracy: 0.7580 - val_dense_3_accuracy: 0.9819\n",
            "Epoch 97/100\n",
            "782/782 [==============================] - 9s 12ms/step - loss: 1.7759 - dense_2_loss: 0.4560 - dense_3_loss: 1.3199 - dense_2_accuracy: 0.7602 - dense_3_accuracy: 0.9801 - val_loss: 1.7356 - val_dense_2_loss: 0.4552 - val_dense_3_loss: 1.2804 - val_dense_2_accuracy: 0.7518 - val_dense_3_accuracy: 0.9799\n",
            "Epoch 98/100\n",
            "782/782 [==============================] - 9s 12ms/step - loss: 1.7836 - dense_2_loss: 0.4550 - dense_3_loss: 1.3286 - dense_2_accuracy: 0.7604 - dense_3_accuracy: 0.9802 - val_loss: 2.1402 - val_dense_2_loss: 0.4875 - val_dense_3_loss: 1.6527 - val_dense_2_accuracy: 0.7288 - val_dense_3_accuracy: 0.9831\n",
            "Epoch 99/100\n",
            "782/782 [==============================] - 9s 12ms/step - loss: 1.7990 - dense_2_loss: 0.4531 - dense_3_loss: 1.3459 - dense_2_accuracy: 0.7630 - dense_3_accuracy: 0.9802 - val_loss: 1.6355 - val_dense_2_loss: 0.4520 - val_dense_3_loss: 1.1835 - val_dense_2_accuracy: 0.7656 - val_dense_3_accuracy: 0.9848\n",
            "Epoch 100/100\n",
            "782/782 [==============================] - 9s 12ms/step - loss: 1.7939 - dense_2_loss: 0.4555 - dense_3_loss: 1.3384 - dense_2_accuracy: 0.7627 - dense_3_accuracy: 0.9793 - val_loss: 2.7908 - val_dense_2_loss: 0.5377 - val_dense_3_loss: 2.2531 - val_dense_2_accuracy: 0.6899 - val_dense_3_accuracy: 0.9805\n"
          ],
          "name": "stdout"
        }
      ]
    },
    {
      "cell_type": "markdown",
      "metadata": {
        "id": "DKGPKoUU0Ou0"
      },
      "source": [
        "*history* contains information about the training.  We can now now show the loss vs epoch for both validation and training samples.\n",
        "\n",
        "\n"
      ]
    },
    {
      "cell_type": "code",
      "metadata": {
        "id": "lu2OdNE5OeXb",
        "outputId": "8e91fed5-b9f8-4377-a203-5df9b2c5ef70",
        "colab": {
          "base_uri": "https://localhost:8080/",
          "height": 302
        }
      },
      "source": [
        "print(history.history.keys())\n",
        "plt.plot(history.history[\"val_loss\"])\n",
        "plt.plot(history.history[\"loss\"])\n",
        "plt.show()\n",
        "#plt.plot(history.history[\"val_accuracy\"])\n",
        "#plt.plot(history.history[\"accuracy\"])\n",
        "#plt.show()\n"
      ],
      "execution_count": null,
      "outputs": [
        {
          "output_type": "stream",
          "text": [
            "dict_keys(['loss', 'dense_2_loss', 'dense_3_loss', 'dense_2_accuracy', 'dense_3_accuracy', 'val_loss', 'val_dense_2_loss', 'val_dense_3_loss', 'val_dense_2_accuracy', 'val_dense_3_accuracy'])\n"
          ],
          "name": "stdout"
        },
        {
          "output_type": "display_data",
          "data": {
            "image/png": "[encoded data removed]",
            "text/plain": [
              "<Figure size 432x288 with 1 Axes>"
            ]
          },
          "metadata": {
            "tags": [],
            "needs_background": "light"
          }
        }
      ]
    },
    {
      "cell_type": "markdown",
      "metadata": {
        "id": "AWGckuGjZRjm"
      },
      "source": [
        "Let's try to create a new image and evaluate it"
      ]
    },
    {
      "cell_type": "code",
      "metadata": {
        "id": "ej1RCfrcZPLp",
        "outputId": "bd6c5b10-a157-409d-99be-638095279d9f",
        "colab": {
          "base_uri": "https://localhost:8080/",
          "height": 302
        }
      },
      "source": [
        "#FILL ME# try to generate a new circle and check if the network recognizes it\n",
        "\n",
        "if mixed :\n",
        "  im= genCircle()[0]+genRectangle()[0]+genRectangle()[0]\n",
        "  #FILL ME#try predicting on the \"im\" generated above... how do we access the number of predicted objects?\n",
        "  #print(\"In this image there are %s rectangle and %s circles\"%(....,....))\n",
        "  plt.imshow(im)\n",
        "  plt.show()\n",
        "\n",
        "if withBB:\n",
        "  im,x1,y1,x2,y2= genCircle()\n",
        "  pre=model.predict(np.expand_dims(im,axis=0) )\n",
        "  isCircle=pre[0][0]\n",
        "  x1p=pre[1][0][0]-1.\n",
        "  y1p=pre[1][0][1]-1.\n",
        "  x2p=pre[1][0][2]+1.\n",
        "  y2p=pre[1][0][3]+1.\n",
        "  print(x1p,y1p,x2p,y2p)\n",
        "  #print(\"Looks like a\", (\"circle\" if model.predict(np.expand_dims(im,axis=0) )[0,1] > 0.5 else \"rectangle\"))\n",
        "  print(\"It is a\",\"circle\" if isCircle > 0.5 else \"rectangle\" )\n",
        "  cv2.rectangle(im,(x1-1,y1-1),(x2+1,y2+1), (255,0,0), 1)\n",
        "  cv2.rectangle(im,(int(x1p),int(y1p)),(int(x2p),int(y2p)), (255,255,0), 1)\n",
        "  plt.imshow(im)\n",
        "  plt.show()\n"
      ],
      "execution_count": null,
      "outputs": [
        {
          "output_type": "stream",
          "text": [
            "41.98548126220703 39.485435485839844 57.44552993774414 53.05869674682617\n",
            "It is a rectangle\n"
          ],
          "name": "stdout"
        },
        {
          "output_type": "display_data",
          "data": {
            "image/png": "[encoded data removed]",
            "text/plain": [
              "<Figure size 432x288 with 1 Axes>"
            ]
          },
          "metadata": {
            "tags": [],
            "needs_background": "light"
          }
        }
      ]
    }
  ]
}